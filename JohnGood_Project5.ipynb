{
 "cells": [
  {
   "cell_type": "markdown",
   "metadata": {},
   "source": [
    "# <font color = \"blue\"> Question 3 & 4 (Import Libraries)\n",
    "   "
   ]
  },
  {
   "cell_type": "code",
   "execution_count": 1,
   "metadata": {},
   "outputs": [],
   "source": [
    "import pandas as pd\n",
    "import numpy as np\n",
    "import matplotlib.pyplot as plt\n",
    "import seaborn as sns\n",
    "\n",
    "%matplotlib inline"
   ]
  },
  {
   "cell_type": "markdown",
   "metadata": {},
   "source": [
    "# <font color = 'blue'> Questions 5,6 (Import CSV files)"
   ]
  },
  {
   "cell_type": "code",
   "execution_count": 2,
   "metadata": {},
   "outputs": [],
   "source": [
    "gdp_df = pd.read_csv(\"Data/gdp_percapita.csv\", nrows = 6500)"
   ]
  },
  {
   "cell_type": "code",
   "execution_count": 3,
   "metadata": {},
   "outputs": [],
   "source": [
    "internet_df = pd.read_csv(\"./Data/internet_use.csv\", nrows = 4495)"
   ]
  },
  {
   "cell_type": "markdown",
   "metadata": {},
   "source": [
    "# <font color = 'blue'> Question 7 (use the shape function to finish)"
   ]
  },
  {
   "cell_type": "code",
   "execution_count": 4,
   "metadata": {},
   "outputs": [
    {
     "data": {
      "text/plain": [
       "(6500, 4)"
      ]
     },
     "execution_count": 4,
     "metadata": {},
     "output_type": "execute_result"
    }
   ],
   "source": [
    "gdp_df.shape\n"
   ]
  },
  {
   "cell_type": "code",
   "execution_count": 5,
   "metadata": {},
   "outputs": [
    {
     "data": {
      "text/plain": [
       "(4495, 4)"
      ]
     },
     "execution_count": 5,
     "metadata": {},
     "output_type": "execute_result"
    }
   ],
   "source": [
    "internet_df.shape"
   ]
  },
  {
   "cell_type": "markdown",
   "metadata": {},
   "source": [
    "# <font color = 'blue'> Question 8 (find the data types of each column)"
   ]
  },
  {
   "cell_type": "code",
   "execution_count": 6,
   "metadata": {},
   "outputs": [
    {
     "data": {
      "text/plain": [
       "Country or Area     object\n",
       "Year                 int64\n",
       "Value              float64\n",
       "Value Footnotes    float64\n",
       "dtype: object"
      ]
     },
     "execution_count": 6,
     "metadata": {},
     "output_type": "execute_result"
    }
   ],
   "source": [
    "gdp_df.dtypes"
   ]
  },
  {
   "cell_type": "markdown",
   "metadata": {},
   "source": [
    "# <font color = 'blue'> Question 9 (10 last items)"
   ]
  },
  {
   "cell_type": "code",
   "execution_count": 7,
   "metadata": {},
   "outputs": [
    {
     "data": {
      "text/html": [
       "<div>\n",
       "<style scoped>\n",
       "    .dataframe tbody tr th:only-of-type {\n",
       "        vertical-align: middle;\n",
       "    }\n",
       "\n",
       "    .dataframe tbody tr th {\n",
       "        vertical-align: top;\n",
       "    }\n",
       "\n",
       "    .dataframe thead th {\n",
       "        text-align: right;\n",
       "    }\n",
       "</style>\n",
       "<table border=\"1\" class=\"dataframe\">\n",
       "  <thead>\n",
       "    <tr style=\"text-align: right;\">\n",
       "      <th></th>\n",
       "      <th>Country or Area</th>\n",
       "      <th>Year</th>\n",
       "      <th>Value</th>\n",
       "      <th>Value Footnotes</th>\n",
       "    </tr>\n",
       "  </thead>\n",
       "  <tbody>\n",
       "    <tr>\n",
       "      <th>6490</th>\n",
       "      <td>Zimbabwe</td>\n",
       "      <td>1999</td>\n",
       "      <td>3054.064189</td>\n",
       "      <td>NaN</td>\n",
       "    </tr>\n",
       "    <tr>\n",
       "      <th>6491</th>\n",
       "      <td>Zimbabwe</td>\n",
       "      <td>1998</td>\n",
       "      <td>3099.076182</td>\n",
       "      <td>NaN</td>\n",
       "    </tr>\n",
       "    <tr>\n",
       "      <th>6492</th>\n",
       "      <td>Zimbabwe</td>\n",
       "      <td>1997</td>\n",
       "      <td>3036.422224</td>\n",
       "      <td>NaN</td>\n",
       "    </tr>\n",
       "    <tr>\n",
       "      <th>6493</th>\n",
       "      <td>Zimbabwe</td>\n",
       "      <td>1996</td>\n",
       "      <td>2985.856605</td>\n",
       "      <td>NaN</td>\n",
       "    </tr>\n",
       "    <tr>\n",
       "      <th>6494</th>\n",
       "      <td>Zimbabwe</td>\n",
       "      <td>1995</td>\n",
       "      <td>2736.486436</td>\n",
       "      <td>NaN</td>\n",
       "    </tr>\n",
       "    <tr>\n",
       "      <th>6495</th>\n",
       "      <td>Zimbabwe</td>\n",
       "      <td>1994</td>\n",
       "      <td>2768.309953</td>\n",
       "      <td>NaN</td>\n",
       "    </tr>\n",
       "    <tr>\n",
       "      <th>6496</th>\n",
       "      <td>Zimbabwe</td>\n",
       "      <td>1993</td>\n",
       "      <td>2572.870395</td>\n",
       "      <td>NaN</td>\n",
       "    </tr>\n",
       "    <tr>\n",
       "      <th>6497</th>\n",
       "      <td>Zimbabwe</td>\n",
       "      <td>1992</td>\n",
       "      <td>2591.007534</td>\n",
       "      <td>NaN</td>\n",
       "    </tr>\n",
       "    <tr>\n",
       "      <th>6498</th>\n",
       "      <td>Zimbabwe</td>\n",
       "      <td>1991</td>\n",
       "      <td>2906.272849</td>\n",
       "      <td>NaN</td>\n",
       "    </tr>\n",
       "    <tr>\n",
       "      <th>6499</th>\n",
       "      <td>Zimbabwe</td>\n",
       "      <td>1990</td>\n",
       "      <td>2819.549467</td>\n",
       "      <td>NaN</td>\n",
       "    </tr>\n",
       "  </tbody>\n",
       "</table>\n",
       "</div>"
      ],
      "text/plain": [
       "     Country or Area  Year        Value  Value Footnotes\n",
       "6490        Zimbabwe  1999  3054.064189              NaN\n",
       "6491        Zimbabwe  1998  3099.076182              NaN\n",
       "6492        Zimbabwe  1997  3036.422224              NaN\n",
       "6493        Zimbabwe  1996  2985.856605              NaN\n",
       "6494        Zimbabwe  1995  2736.486436              NaN\n",
       "6495        Zimbabwe  1994  2768.309953              NaN\n",
       "6496        Zimbabwe  1993  2572.870395              NaN\n",
       "6497        Zimbabwe  1992  2591.007534              NaN\n",
       "6498        Zimbabwe  1991  2906.272849              NaN\n",
       "6499        Zimbabwe  1990  2819.549467              NaN"
      ]
     },
     "execution_count": 7,
     "metadata": {},
     "output_type": "execute_result"
    }
   ],
   "source": [
    "gdp_df.tail(10)"
   ]
  },
  {
   "cell_type": "code",
   "execution_count": 8,
   "metadata": {},
   "outputs": [
    {
     "data": {
      "text/html": [
       "<div>\n",
       "<style scoped>\n",
       "    .dataframe tbody tr th:only-of-type {\n",
       "        vertical-align: middle;\n",
       "    }\n",
       "\n",
       "    .dataframe tbody tr th {\n",
       "        vertical-align: top;\n",
       "    }\n",
       "\n",
       "    .dataframe thead th {\n",
       "        text-align: right;\n",
       "    }\n",
       "</style>\n",
       "<table border=\"1\" class=\"dataframe\">\n",
       "  <thead>\n",
       "    <tr style=\"text-align: right;\">\n",
       "      <th></th>\n",
       "      <th>Country or Area</th>\n",
       "      <th>Year</th>\n",
       "      <th>Value</th>\n",
       "      <th>Value Footnotes</th>\n",
       "    </tr>\n",
       "  </thead>\n",
       "  <tbody>\n",
       "    <tr>\n",
       "      <th>4485</th>\n",
       "      <td>Zimbabwe</td>\n",
       "      <td>2002</td>\n",
       "      <td>3.994356</td>\n",
       "      <td>NaN</td>\n",
       "    </tr>\n",
       "    <tr>\n",
       "      <th>4486</th>\n",
       "      <td>Zimbabwe</td>\n",
       "      <td>2001</td>\n",
       "      <td>0.799846</td>\n",
       "      <td>NaN</td>\n",
       "    </tr>\n",
       "    <tr>\n",
       "      <th>4487</th>\n",
       "      <td>Zimbabwe</td>\n",
       "      <td>2000</td>\n",
       "      <td>0.401434</td>\n",
       "      <td>NaN</td>\n",
       "    </tr>\n",
       "    <tr>\n",
       "      <th>4488</th>\n",
       "      <td>Zimbabwe</td>\n",
       "      <td>1999</td>\n",
       "      <td>0.161676</td>\n",
       "      <td>NaN</td>\n",
       "    </tr>\n",
       "    <tr>\n",
       "      <th>4489</th>\n",
       "      <td>Zimbabwe</td>\n",
       "      <td>1998</td>\n",
       "      <td>0.081648</td>\n",
       "      <td>NaN</td>\n",
       "    </tr>\n",
       "    <tr>\n",
       "      <th>4490</th>\n",
       "      <td>Zimbabwe</td>\n",
       "      <td>1997</td>\n",
       "      <td>0.033080</td>\n",
       "      <td>NaN</td>\n",
       "    </tr>\n",
       "    <tr>\n",
       "      <th>4491</th>\n",
       "      <td>Zimbabwe</td>\n",
       "      <td>1996</td>\n",
       "      <td>0.016790</td>\n",
       "      <td>NaN</td>\n",
       "    </tr>\n",
       "    <tr>\n",
       "      <th>4492</th>\n",
       "      <td>Zimbabwe</td>\n",
       "      <td>1995</td>\n",
       "      <td>0.007684</td>\n",
       "      <td>NaN</td>\n",
       "    </tr>\n",
       "    <tr>\n",
       "      <th>4493</th>\n",
       "      <td>Zimbabwe</td>\n",
       "      <td>1994</td>\n",
       "      <td>0.001739</td>\n",
       "      <td>NaN</td>\n",
       "    </tr>\n",
       "    <tr>\n",
       "      <th>4494</th>\n",
       "      <td>Zimbabwe</td>\n",
       "      <td>1990</td>\n",
       "      <td>0.000000</td>\n",
       "      <td>NaN</td>\n",
       "    </tr>\n",
       "  </tbody>\n",
       "</table>\n",
       "</div>"
      ],
      "text/plain": [
       "     Country or Area  Year     Value  Value Footnotes\n",
       "4485        Zimbabwe  2002  3.994356              NaN\n",
       "4486        Zimbabwe  2001  0.799846              NaN\n",
       "4487        Zimbabwe  2000  0.401434              NaN\n",
       "4488        Zimbabwe  1999  0.161676              NaN\n",
       "4489        Zimbabwe  1998  0.081648              NaN\n",
       "4490        Zimbabwe  1997  0.033080              NaN\n",
       "4491        Zimbabwe  1996  0.016790              NaN\n",
       "4492        Zimbabwe  1995  0.007684              NaN\n",
       "4493        Zimbabwe  1994  0.001739              NaN\n",
       "4494        Zimbabwe  1990  0.000000              NaN"
      ]
     },
     "execution_count": 8,
     "metadata": {},
     "output_type": "execute_result"
    }
   ],
   "source": [
    "internet_df.tail(10)"
   ]
  },
  {
   "cell_type": "markdown",
   "metadata": {},
   "source": [
    "# <font color = 'blue'> Question 10 (Drop Column Value Footnotes)"
   ]
  },
  {
   "cell_type": "code",
   "execution_count": 9,
   "metadata": {},
   "outputs": [],
   "source": [
    "internet_df = internet_df.drop(\"Value Footnotes\", axis = 1)"
   ]
  },
  {
   "cell_type": "code",
   "execution_count": 10,
   "metadata": {},
   "outputs": [],
   "source": [
    "gdp_df = gdp_df.drop(\"Value Footnotes\", axis= 1)"
   ]
  },
  {
   "cell_type": "code",
   "execution_count": 11,
   "metadata": {},
   "outputs": [
    {
     "data": {
      "text/html": [
       "<div>\n",
       "<style scoped>\n",
       "    .dataframe tbody tr th:only-of-type {\n",
       "        vertical-align: middle;\n",
       "    }\n",
       "\n",
       "    .dataframe tbody tr th {\n",
       "        vertical-align: top;\n",
       "    }\n",
       "\n",
       "    .dataframe thead th {\n",
       "        text-align: right;\n",
       "    }\n",
       "</style>\n",
       "<table border=\"1\" class=\"dataframe\">\n",
       "  <thead>\n",
       "    <tr style=\"text-align: right;\">\n",
       "      <th></th>\n",
       "      <th>Country or Area</th>\n",
       "      <th>Year</th>\n",
       "      <th>Value</th>\n",
       "    </tr>\n",
       "  </thead>\n",
       "  <tbody>\n",
       "    <tr>\n",
       "      <th>0</th>\n",
       "      <td>Afghanistan</td>\n",
       "      <td>2014</td>\n",
       "      <td>6.39</td>\n",
       "    </tr>\n",
       "  </tbody>\n",
       "</table>\n",
       "</div>"
      ],
      "text/plain": [
       "  Country or Area  Year  Value\n",
       "0     Afghanistan  2014   6.39"
      ]
     },
     "execution_count": 11,
     "metadata": {},
     "output_type": "execute_result"
    }
   ],
   "source": [
    "internet_df.head(1)"
   ]
  },
  {
   "cell_type": "code",
   "execution_count": 12,
   "metadata": {},
   "outputs": [
    {
     "data": {
      "text/html": [
       "<div>\n",
       "<style scoped>\n",
       "    .dataframe tbody tr th:only-of-type {\n",
       "        vertical-align: middle;\n",
       "    }\n",
       "\n",
       "    .dataframe tbody tr th {\n",
       "        vertical-align: top;\n",
       "    }\n",
       "\n",
       "    .dataframe thead th {\n",
       "        text-align: right;\n",
       "    }\n",
       "</style>\n",
       "<table border=\"1\" class=\"dataframe\">\n",
       "  <thead>\n",
       "    <tr style=\"text-align: right;\">\n",
       "      <th></th>\n",
       "      <th>Country or Area</th>\n",
       "      <th>Year</th>\n",
       "      <th>Value</th>\n",
       "    </tr>\n",
       "  </thead>\n",
       "  <tbody>\n",
       "    <tr>\n",
       "      <th>0</th>\n",
       "      <td>Afghanistan</td>\n",
       "      <td>2017</td>\n",
       "      <td>1758.465636</td>\n",
       "    </tr>\n",
       "  </tbody>\n",
       "</table>\n",
       "</div>"
      ],
      "text/plain": [
       "  Country or Area  Year        Value\n",
       "0     Afghanistan  2017  1758.465636"
      ]
     },
     "execution_count": 12,
     "metadata": {},
     "output_type": "execute_result"
    }
   ],
   "source": [
    "gdp_df.head(1)"
   ]
  },
  {
   "cell_type": "markdown",
   "metadata": {},
   "source": [
    "# <font color = 'blue'> Question 11 & 12 (Rename Columns)"
   ]
  },
  {
   "cell_type": "code",
   "execution_count": 13,
   "metadata": {},
   "outputs": [
    {
     "data": {
      "text/html": [
       "<div>\n",
       "<style scoped>\n",
       "    .dataframe tbody tr th:only-of-type {\n",
       "        vertical-align: middle;\n",
       "    }\n",
       "\n",
       "    .dataframe tbody tr th {\n",
       "        vertical-align: top;\n",
       "    }\n",
       "\n",
       "    .dataframe thead th {\n",
       "        text-align: right;\n",
       "    }\n",
       "</style>\n",
       "<table border=\"1\" class=\"dataframe\">\n",
       "  <thead>\n",
       "    <tr style=\"text-align: right;\">\n",
       "      <th></th>\n",
       "      <th>Country</th>\n",
       "      <th>Year</th>\n",
       "      <th>Internet_Users_Pct</th>\n",
       "    </tr>\n",
       "  </thead>\n",
       "  <tbody>\n",
       "    <tr>\n",
       "      <th>0</th>\n",
       "      <td>Afghanistan</td>\n",
       "      <td>2014</td>\n",
       "      <td>6.390000</td>\n",
       "    </tr>\n",
       "    <tr>\n",
       "      <th>1</th>\n",
       "      <td>Afghanistan</td>\n",
       "      <td>2013</td>\n",
       "      <td>5.900000</td>\n",
       "    </tr>\n",
       "    <tr>\n",
       "      <th>2</th>\n",
       "      <td>Afghanistan</td>\n",
       "      <td>2012</td>\n",
       "      <td>5.454545</td>\n",
       "    </tr>\n",
       "  </tbody>\n",
       "</table>\n",
       "</div>"
      ],
      "text/plain": [
       "       Country  Year  Internet_Users_Pct\n",
       "0  Afghanistan  2014            6.390000\n",
       "1  Afghanistan  2013            5.900000\n",
       "2  Afghanistan  2012            5.454545"
      ]
     },
     "execution_count": 13,
     "metadata": {},
     "output_type": "execute_result"
    }
   ],
   "source": [
    "internet_df = internet_df.rename(columns={\"Country or Area\" : \"Country\", \"Value\" : \"Internet_Users_Pct\"})\n",
    "internet_df.head(3)"
   ]
  },
  {
   "cell_type": "code",
   "execution_count": 14,
   "metadata": {},
   "outputs": [
    {
     "data": {
      "text/html": [
       "<div>\n",
       "<style scoped>\n",
       "    .dataframe tbody tr th:only-of-type {\n",
       "        vertical-align: middle;\n",
       "    }\n",
       "\n",
       "    .dataframe tbody tr th {\n",
       "        vertical-align: top;\n",
       "    }\n",
       "\n",
       "    .dataframe thead th {\n",
       "        text-align: right;\n",
       "    }\n",
       "</style>\n",
       "<table border=\"1\" class=\"dataframe\">\n",
       "  <thead>\n",
       "    <tr style=\"text-align: right;\">\n",
       "      <th></th>\n",
       "      <th>Country</th>\n",
       "      <th>Year</th>\n",
       "      <th>GDP_Per_Capita</th>\n",
       "    </tr>\n",
       "  </thead>\n",
       "  <tbody>\n",
       "    <tr>\n",
       "      <th>0</th>\n",
       "      <td>Afghanistan</td>\n",
       "      <td>2017</td>\n",
       "      <td>1758.465636</td>\n",
       "    </tr>\n",
       "    <tr>\n",
       "      <th>1</th>\n",
       "      <td>Afghanistan</td>\n",
       "      <td>2016</td>\n",
       "      <td>1757.023490</td>\n",
       "    </tr>\n",
       "    <tr>\n",
       "      <th>2</th>\n",
       "      <td>Afghanistan</td>\n",
       "      <td>2015</td>\n",
       "      <td>1766.593077</td>\n",
       "    </tr>\n",
       "  </tbody>\n",
       "</table>\n",
       "</div>"
      ],
      "text/plain": [
       "       Country  Year  GDP_Per_Capita\n",
       "0  Afghanistan  2017     1758.465636\n",
       "1  Afghanistan  2016     1757.023490\n",
       "2  Afghanistan  2015     1766.593077"
      ]
     },
     "execution_count": 14,
     "metadata": {},
     "output_type": "execute_result"
    }
   ],
   "source": [
    "gdp_df = gdp_df.rename(columns={\"Country or Area\" : \"Country\", \"Value\" : \"GDP_Per_Capita\"})\n",
    "gdp_df.head(3)"
   ]
  },
  {
   "cell_type": "markdown",
   "metadata": {},
   "source": [
    "# <font color = 'blue'> Questions 13"
   ]
  },
  {
   "cell_type": "code",
   "execution_count": 15,
   "metadata": {},
   "outputs": [],
   "source": [
    "gdp_and_internet_usage = pd.concat([gdp_df, internet_df], axis = 1)"
   ]
  },
  {
   "cell_type": "code",
   "execution_count": 16,
   "metadata": {},
   "outputs": [],
   "source": [
    "joined_match_gdp = pd.merge(gdp_df, internet_df, on = [\"Country\", \"Year\"], how = \"inner\")"
   ]
  },
  {
   "cell_type": "code",
   "execution_count": 17,
   "metadata": {},
   "outputs": [],
   "source": [
    "joined_concat_gdp = pd.concat([gdp_df, internet_df], axis = 1)"
   ]
  },
  {
   "cell_type": "markdown",
   "metadata": {},
   "source": [
    "# <font color = 'blue'> Question 14 & 15 (Demonstrate Merge worked correctly)"
   ]
  },
  {
   "cell_type": "code",
   "execution_count": 18,
   "metadata": {},
   "outputs": [
    {
     "data": {
      "text/html": [
       "<div>\n",
       "<style scoped>\n",
       "    .dataframe tbody tr th:only-of-type {\n",
       "        vertical-align: middle;\n",
       "    }\n",
       "\n",
       "    .dataframe tbody tr th {\n",
       "        vertical-align: top;\n",
       "    }\n",
       "\n",
       "    .dataframe thead th {\n",
       "        text-align: right;\n",
       "    }\n",
       "</style>\n",
       "<table border=\"1\" class=\"dataframe\">\n",
       "  <thead>\n",
       "    <tr style=\"text-align: right;\">\n",
       "      <th></th>\n",
       "      <th>Country</th>\n",
       "      <th>Year</th>\n",
       "      <th>GDP_Per_Capita</th>\n",
       "      <th>Country</th>\n",
       "      <th>Year</th>\n",
       "      <th>Internet_Users_Pct</th>\n",
       "    </tr>\n",
       "  </thead>\n",
       "  <tbody>\n",
       "    <tr>\n",
       "      <th>0</th>\n",
       "      <td>Afghanistan</td>\n",
       "      <td>2017</td>\n",
       "      <td>1758.465636</td>\n",
       "      <td>Afghanistan</td>\n",
       "      <td>2014.0</td>\n",
       "      <td>6.390000</td>\n",
       "    </tr>\n",
       "    <tr>\n",
       "      <th>1</th>\n",
       "      <td>Afghanistan</td>\n",
       "      <td>2016</td>\n",
       "      <td>1757.023490</td>\n",
       "      <td>Afghanistan</td>\n",
       "      <td>2013.0</td>\n",
       "      <td>5.900000</td>\n",
       "    </tr>\n",
       "    <tr>\n",
       "      <th>2</th>\n",
       "      <td>Afghanistan</td>\n",
       "      <td>2015</td>\n",
       "      <td>1766.593077</td>\n",
       "      <td>Afghanistan</td>\n",
       "      <td>2012.0</td>\n",
       "      <td>5.454545</td>\n",
       "    </tr>\n",
       "    <tr>\n",
       "      <th>3</th>\n",
       "      <td>Afghanistan</td>\n",
       "      <td>2014</td>\n",
       "      <td>1795.735834</td>\n",
       "      <td>Afghanistan</td>\n",
       "      <td>2011.0</td>\n",
       "      <td>5.000000</td>\n",
       "    </tr>\n",
       "    <tr>\n",
       "      <th>4</th>\n",
       "      <td>Afghanistan</td>\n",
       "      <td>2013</td>\n",
       "      <td>1807.762344</td>\n",
       "      <td>Afghanistan</td>\n",
       "      <td>2010.0</td>\n",
       "      <td>4.000000</td>\n",
       "    </tr>\n",
       "  </tbody>\n",
       "</table>\n",
       "</div>"
      ],
      "text/plain": [
       "       Country  Year  GDP_Per_Capita      Country    Year  Internet_Users_Pct\n",
       "0  Afghanistan  2017     1758.465636  Afghanistan  2014.0            6.390000\n",
       "1  Afghanistan  2016     1757.023490  Afghanistan  2013.0            5.900000\n",
       "2  Afghanistan  2015     1766.593077  Afghanistan  2012.0            5.454545\n",
       "3  Afghanistan  2014     1795.735834  Afghanistan  2011.0            5.000000\n",
       "4  Afghanistan  2013     1807.762344  Afghanistan  2010.0            4.000000"
      ]
     },
     "execution_count": 18,
     "metadata": {},
     "output_type": "execute_result"
    }
   ],
   "source": [
    "joined_concat_gdp.head()"
   ]
  },
  {
   "cell_type": "code",
   "execution_count": 19,
   "metadata": {},
   "outputs": [
    {
     "data": {
      "text/html": [
       "<div>\n",
       "<style scoped>\n",
       "    .dataframe tbody tr th:only-of-type {\n",
       "        vertical-align: middle;\n",
       "    }\n",
       "\n",
       "    .dataframe tbody tr th {\n",
       "        vertical-align: top;\n",
       "    }\n",
       "\n",
       "    .dataframe thead th {\n",
       "        text-align: right;\n",
       "    }\n",
       "</style>\n",
       "<table border=\"1\" class=\"dataframe\">\n",
       "  <thead>\n",
       "    <tr style=\"text-align: right;\">\n",
       "      <th></th>\n",
       "      <th>Country</th>\n",
       "      <th>Year</th>\n",
       "      <th>GDP_Per_Capita</th>\n",
       "      <th>Country</th>\n",
       "      <th>Year</th>\n",
       "      <th>Internet_Users_Pct</th>\n",
       "    </tr>\n",
       "  </thead>\n",
       "  <tbody>\n",
       "    <tr>\n",
       "      <th>6495</th>\n",
       "      <td>Zimbabwe</td>\n",
       "      <td>1994</td>\n",
       "      <td>2768.309953</td>\n",
       "      <td>NaN</td>\n",
       "      <td>NaN</td>\n",
       "      <td>NaN</td>\n",
       "    </tr>\n",
       "    <tr>\n",
       "      <th>6496</th>\n",
       "      <td>Zimbabwe</td>\n",
       "      <td>1993</td>\n",
       "      <td>2572.870395</td>\n",
       "      <td>NaN</td>\n",
       "      <td>NaN</td>\n",
       "      <td>NaN</td>\n",
       "    </tr>\n",
       "    <tr>\n",
       "      <th>6497</th>\n",
       "      <td>Zimbabwe</td>\n",
       "      <td>1992</td>\n",
       "      <td>2591.007534</td>\n",
       "      <td>NaN</td>\n",
       "      <td>NaN</td>\n",
       "      <td>NaN</td>\n",
       "    </tr>\n",
       "    <tr>\n",
       "      <th>6498</th>\n",
       "      <td>Zimbabwe</td>\n",
       "      <td>1991</td>\n",
       "      <td>2906.272849</td>\n",
       "      <td>NaN</td>\n",
       "      <td>NaN</td>\n",
       "      <td>NaN</td>\n",
       "    </tr>\n",
       "    <tr>\n",
       "      <th>6499</th>\n",
       "      <td>Zimbabwe</td>\n",
       "      <td>1990</td>\n",
       "      <td>2819.549467</td>\n",
       "      <td>NaN</td>\n",
       "      <td>NaN</td>\n",
       "      <td>NaN</td>\n",
       "    </tr>\n",
       "  </tbody>\n",
       "</table>\n",
       "</div>"
      ],
      "text/plain": [
       "       Country  Year  GDP_Per_Capita Country  Year  Internet_Users_Pct\n",
       "6495  Zimbabwe  1994     2768.309953     NaN   NaN                 NaN\n",
       "6496  Zimbabwe  1993     2572.870395     NaN   NaN                 NaN\n",
       "6497  Zimbabwe  1992     2591.007534     NaN   NaN                 NaN\n",
       "6498  Zimbabwe  1991     2906.272849     NaN   NaN                 NaN\n",
       "6499  Zimbabwe  1990     2819.549467     NaN   NaN                 NaN"
      ]
     },
     "execution_count": 19,
     "metadata": {},
     "output_type": "execute_result"
    }
   ],
   "source": [
    "joined_concat_gdp.tail()"
   ]
  },
  {
   "cell_type": "code",
   "execution_count": 20,
   "metadata": {},
   "outputs": [
    {
     "data": {
      "text/html": [
       "<div>\n",
       "<style scoped>\n",
       "    .dataframe tbody tr th:only-of-type {\n",
       "        vertical-align: middle;\n",
       "    }\n",
       "\n",
       "    .dataframe tbody tr th {\n",
       "        vertical-align: top;\n",
       "    }\n",
       "\n",
       "    .dataframe thead th {\n",
       "        text-align: right;\n",
       "    }\n",
       "</style>\n",
       "<table border=\"1\" class=\"dataframe\">\n",
       "  <thead>\n",
       "    <tr style=\"text-align: right;\">\n",
       "      <th></th>\n",
       "      <th>Country</th>\n",
       "      <th>Year</th>\n",
       "      <th>GDP_Per_Capita</th>\n",
       "      <th>Internet_Users_Pct</th>\n",
       "    </tr>\n",
       "  </thead>\n",
       "  <tbody>\n",
       "    <tr>\n",
       "      <th>0</th>\n",
       "      <td>Afghanistan</td>\n",
       "      <td>2014</td>\n",
       "      <td>1795.735834</td>\n",
       "      <td>6.390000</td>\n",
       "    </tr>\n",
       "    <tr>\n",
       "      <th>1</th>\n",
       "      <td>Afghanistan</td>\n",
       "      <td>2013</td>\n",
       "      <td>1807.762344</td>\n",
       "      <td>5.900000</td>\n",
       "    </tr>\n",
       "    <tr>\n",
       "      <th>2</th>\n",
       "      <td>Afghanistan</td>\n",
       "      <td>2012</td>\n",
       "      <td>1772.764974</td>\n",
       "      <td>5.454545</td>\n",
       "    </tr>\n",
       "    <tr>\n",
       "      <th>3</th>\n",
       "      <td>Afghanistan</td>\n",
       "      <td>2011</td>\n",
       "      <td>1626.764793</td>\n",
       "      <td>5.000000</td>\n",
       "    </tr>\n",
       "    <tr>\n",
       "      <th>4</th>\n",
       "      <td>Afghanistan</td>\n",
       "      <td>2010</td>\n",
       "      <td>1671.581238</td>\n",
       "      <td>4.000000</td>\n",
       "    </tr>\n",
       "  </tbody>\n",
       "</table>\n",
       "</div>"
      ],
      "text/plain": [
       "       Country  Year  GDP_Per_Capita  Internet_Users_Pct\n",
       "0  Afghanistan  2014     1795.735834            6.390000\n",
       "1  Afghanistan  2013     1807.762344            5.900000\n",
       "2  Afghanistan  2012     1772.764974            5.454545\n",
       "3  Afghanistan  2011     1626.764793            5.000000\n",
       "4  Afghanistan  2010     1671.581238            4.000000"
      ]
     },
     "execution_count": 20,
     "metadata": {},
     "output_type": "execute_result"
    }
   ],
   "source": [
    "joined_match_gdp.head()"
   ]
  },
  {
   "cell_type": "code",
   "execution_count": 21,
   "metadata": {
    "scrolled": true
   },
   "outputs": [
    {
     "data": {
      "text/html": [
       "<div>\n",
       "<style scoped>\n",
       "    .dataframe tbody tr th:only-of-type {\n",
       "        vertical-align: middle;\n",
       "    }\n",
       "\n",
       "    .dataframe tbody tr th {\n",
       "        vertical-align: top;\n",
       "    }\n",
       "\n",
       "    .dataframe thead th {\n",
       "        text-align: right;\n",
       "    }\n",
       "</style>\n",
       "<table border=\"1\" class=\"dataframe\">\n",
       "  <thead>\n",
       "    <tr style=\"text-align: right;\">\n",
       "      <th></th>\n",
       "      <th>Country</th>\n",
       "      <th>Year</th>\n",
       "      <th>GDP_Per_Capita</th>\n",
       "      <th>Internet_Users_Pct</th>\n",
       "    </tr>\n",
       "  </thead>\n",
       "  <tbody>\n",
       "    <tr>\n",
       "      <th>3514</th>\n",
       "      <td>Zimbabwe</td>\n",
       "      <td>1997</td>\n",
       "      <td>3036.422224</td>\n",
       "      <td>0.033080</td>\n",
       "    </tr>\n",
       "    <tr>\n",
       "      <th>3515</th>\n",
       "      <td>Zimbabwe</td>\n",
       "      <td>1996</td>\n",
       "      <td>2985.856605</td>\n",
       "      <td>0.016790</td>\n",
       "    </tr>\n",
       "    <tr>\n",
       "      <th>3516</th>\n",
       "      <td>Zimbabwe</td>\n",
       "      <td>1995</td>\n",
       "      <td>2736.486436</td>\n",
       "      <td>0.007684</td>\n",
       "    </tr>\n",
       "    <tr>\n",
       "      <th>3517</th>\n",
       "      <td>Zimbabwe</td>\n",
       "      <td>1994</td>\n",
       "      <td>2768.309953</td>\n",
       "      <td>0.001739</td>\n",
       "    </tr>\n",
       "    <tr>\n",
       "      <th>3518</th>\n",
       "      <td>Zimbabwe</td>\n",
       "      <td>1990</td>\n",
       "      <td>2819.549467</td>\n",
       "      <td>0.000000</td>\n",
       "    </tr>\n",
       "  </tbody>\n",
       "</table>\n",
       "</div>"
      ],
      "text/plain": [
       "       Country  Year  GDP_Per_Capita  Internet_Users_Pct\n",
       "3514  Zimbabwe  1997     3036.422224            0.033080\n",
       "3515  Zimbabwe  1996     2985.856605            0.016790\n",
       "3516  Zimbabwe  1995     2736.486436            0.007684\n",
       "3517  Zimbabwe  1994     2768.309953            0.001739\n",
       "3518  Zimbabwe  1990     2819.549467            0.000000"
      ]
     },
     "execution_count": 21,
     "metadata": {},
     "output_type": "execute_result"
    }
   ],
   "source": [
    "joined_match_gdp.tail()"
   ]
  },
  {
   "cell_type": "markdown",
   "metadata": {},
   "source": [
    "# <font color = 'blue'> Question 16 (Create new DF with select years)"
   ]
  },
  {
   "cell_type": "code",
   "execution_count": 22,
   "metadata": {},
   "outputs": [],
   "source": [
    "yearly_gdp = joined_match_gdp.loc[joined_match_gdp.Year.isin([\"2004\", '2009', '2014'])]"
   ]
  },
  {
   "cell_type": "code",
   "execution_count": 23,
   "metadata": {},
   "outputs": [
    {
     "data": {
      "text/html": [
       "<div>\n",
       "<style scoped>\n",
       "    .dataframe tbody tr th:only-of-type {\n",
       "        vertical-align: middle;\n",
       "    }\n",
       "\n",
       "    .dataframe tbody tr th {\n",
       "        vertical-align: top;\n",
       "    }\n",
       "\n",
       "    .dataframe thead th {\n",
       "        text-align: right;\n",
       "    }\n",
       "</style>\n",
       "<table border=\"1\" class=\"dataframe\">\n",
       "  <thead>\n",
       "    <tr style=\"text-align: right;\">\n",
       "      <th></th>\n",
       "      <th>Country</th>\n",
       "      <th>Year</th>\n",
       "      <th>GDP_Per_Capita</th>\n",
       "      <th>Internet_Users_Pct</th>\n",
       "    </tr>\n",
       "  </thead>\n",
       "  <tbody>\n",
       "    <tr>\n",
       "      <th>0</th>\n",
       "      <td>Afghanistan</td>\n",
       "      <td>2014</td>\n",
       "      <td>1795.735834</td>\n",
       "      <td>6.390000</td>\n",
       "    </tr>\n",
       "    <tr>\n",
       "      <th>5</th>\n",
       "      <td>Afghanistan</td>\n",
       "      <td>2009</td>\n",
       "      <td>1502.354073</td>\n",
       "      <td>3.550000</td>\n",
       "    </tr>\n",
       "    <tr>\n",
       "      <th>10</th>\n",
       "      <td>Afghanistan</td>\n",
       "      <td>2004</td>\n",
       "      <td>1025.208245</td>\n",
       "      <td>0.105809</td>\n",
       "    </tr>\n",
       "    <tr>\n",
       "      <th>13</th>\n",
       "      <td>Albania</td>\n",
       "      <td>2014</td>\n",
       "      <td>10700.522802</td>\n",
       "      <td>60.100000</td>\n",
       "    </tr>\n",
       "    <tr>\n",
       "      <th>18</th>\n",
       "      <td>Albania</td>\n",
       "      <td>2009</td>\n",
       "      <td>9525.372374</td>\n",
       "      <td>41.200000</td>\n",
       "    </tr>\n",
       "  </tbody>\n",
       "</table>\n",
       "</div>"
      ],
      "text/plain": [
       "        Country  Year  GDP_Per_Capita  Internet_Users_Pct\n",
       "0   Afghanistan  2014     1795.735834            6.390000\n",
       "5   Afghanistan  2009     1502.354073            3.550000\n",
       "10  Afghanistan  2004     1025.208245            0.105809\n",
       "13      Albania  2014    10700.522802           60.100000\n",
       "18      Albania  2009     9525.372374           41.200000"
      ]
     },
     "execution_count": 23,
     "metadata": {},
     "output_type": "execute_result"
    }
   ],
   "source": [
    "yearly_gdp.head()"
   ]
  },
  {
   "cell_type": "markdown",
   "metadata": {},
   "source": [
    "# <font color = 'blue'> Question 17 (Create new DF with specific year)"
   ]
  },
  {
   "cell_type": "code",
   "execution_count": 24,
   "metadata": {},
   "outputs": [],
   "source": [
    "year_2004 = joined_match_gdp.loc[joined_match_gdp[\"Year\"] == 2004]"
   ]
  },
  {
   "cell_type": "code",
   "execution_count": 25,
   "metadata": {},
   "outputs": [],
   "source": [
    "year_2009 = joined_match_gdp.loc[joined_match_gdp[\"Year\"] == 2009]"
   ]
  },
  {
   "cell_type": "code",
   "execution_count": 26,
   "metadata": {},
   "outputs": [],
   "source": [
    "year_2014 = joined_match_gdp.loc[joined_match_gdp[\"Year\"] == 2014]"
   ]
  },
  {
   "cell_type": "code",
   "execution_count": 27,
   "metadata": {},
   "outputs": [
    {
     "data": {
      "text/html": [
       "<div>\n",
       "<style scoped>\n",
       "    .dataframe tbody tr th:only-of-type {\n",
       "        vertical-align: middle;\n",
       "    }\n",
       "\n",
       "    .dataframe tbody tr th {\n",
       "        vertical-align: top;\n",
       "    }\n",
       "\n",
       "    .dataframe thead th {\n",
       "        text-align: right;\n",
       "    }\n",
       "</style>\n",
       "<table border=\"1\" class=\"dataframe\">\n",
       "  <thead>\n",
       "    <tr style=\"text-align: right;\">\n",
       "      <th></th>\n",
       "      <th>Country</th>\n",
       "      <th>Year</th>\n",
       "      <th>GDP_Per_Capita</th>\n",
       "      <th>Internet_Users_Pct</th>\n",
       "    </tr>\n",
       "  </thead>\n",
       "  <tbody>\n",
       "    <tr>\n",
       "      <th>10</th>\n",
       "      <td>Afghanistan</td>\n",
       "      <td>2004</td>\n",
       "      <td>1025.208245</td>\n",
       "      <td>0.105809</td>\n",
       "    </tr>\n",
       "    <tr>\n",
       "      <th>23</th>\n",
       "      <td>Albania</td>\n",
       "      <td>2004</td>\n",
       "      <td>7001.054941</td>\n",
       "      <td>2.420388</td>\n",
       "    </tr>\n",
       "  </tbody>\n",
       "</table>\n",
       "</div>"
      ],
      "text/plain": [
       "        Country  Year  GDP_Per_Capita  Internet_Users_Pct\n",
       "10  Afghanistan  2004     1025.208245            0.105809\n",
       "23      Albania  2004     7001.054941            2.420388"
      ]
     },
     "execution_count": 27,
     "metadata": {},
     "output_type": "execute_result"
    }
   ],
   "source": [
    "year_2004.head(2)"
   ]
  },
  {
   "cell_type": "markdown",
   "metadata": {},
   "source": [
    "# <font color = blue> Question 18 & 19 (Find the max Internet User Percent)"
   ]
  },
  {
   "cell_type": "code",
   "execution_count": 28,
   "metadata": {},
   "outputs": [],
   "source": [
    "max_internet_usage_2014 = year_2014.loc[year_2014[\"Internet_Users_Pct\"].idxmax()]"
   ]
  },
  {
   "cell_type": "markdown",
   "metadata": {},
   "source": [
    "#### <font color = grey> Iceland has the highest internet user percent in 2014 at 98.16%."
   ]
  },
  {
   "cell_type": "code",
   "execution_count": 29,
   "metadata": {},
   "outputs": [],
   "source": [
    "min_internet_usage_2014 = year_2014.loc[year_2014[\"Internet_Users_Pct\"].idxmin()]"
   ]
  },
  {
   "cell_type": "markdown",
   "metadata": {},
   "source": [
    "#### <font color = grey> Timor-Leste had the least internet user percent in 2014 at 1.14%"
   ]
  },
  {
   "cell_type": "code",
   "execution_count": 30,
   "metadata": {},
   "outputs": [],
   "source": [
    "max_internet_usage_2009 = year_2009.loc[year_2009[\"Internet_Users_Pct\"].idxmax()]"
   ]
  },
  {
   "cell_type": "markdown",
   "metadata": {},
   "source": [
    "#### <font color = grey> Iceland has the highest internet usage percent in 2009 at 93%."
   ]
  },
  {
   "cell_type": "code",
   "execution_count": 31,
   "metadata": {},
   "outputs": [],
   "source": [
    "min_internet_usage_2009 = year_2009.loc[year_2009[\"Internet_Users_Pct\"].idxmin()]"
   ]
  },
  {
   "cell_type": "markdown",
   "metadata": {},
   "source": [
    "#### <font color = grey> Timor-Leste had the least internet user percent in 2009 at .18%."
   ]
  },
  {
   "cell_type": "code",
   "execution_count": 32,
   "metadata": {},
   "outputs": [],
   "source": [
    "max_internet_usage_2004 = year_2004.loc[year_2004[\"Internet_Users_Pct\"].idxmax()]"
   ]
  },
  {
   "cell_type": "markdown",
   "metadata": {},
   "source": [
    "#### <font color = grey> Sweden had the highest internet usage in 2004 at 83.89%."
   ]
  },
  {
   "cell_type": "code",
   "execution_count": 33,
   "metadata": {},
   "outputs": [],
   "source": [
    "min_internet_usage_2004 = year_2004.loc[year_2004[\"Internet_Users_Pct\"].idxmin()]"
   ]
  },
  {
   "cell_type": "markdown",
   "metadata": {},
   "source": [
    "#### <font color=grey> Mayanmar had the least internet user percent in 2004 at .02%."
   ]
  },
  {
   "cell_type": "markdown",
   "metadata": {},
   "source": [
    "# <font color = blue> Question 21 & 22 (Highest and Lowest GDP)"
   ]
  },
  {
   "cell_type": "code",
   "execution_count": 34,
   "metadata": {},
   "outputs": [],
   "source": [
    "max_gdp_2014 = year_2014.loc[year_2014[\"GDP_Per_Capita\"].idxmax()]"
   ]
  },
  {
   "cell_type": "code",
   "execution_count": 35,
   "metadata": {},
   "outputs": [],
   "source": [
    "min_gdp_2014 = year_2014.loc[year_2014[\"GDP_Per_Capita\"].idxmin()]"
   ]
  },
  {
   "cell_type": "code",
   "execution_count": 36,
   "metadata": {},
   "outputs": [
    {
     "name": "stdout",
     "output_type": "stream",
     "text": [
      "Country                Qatar\n",
      "Year                    2014\n",
      "GDP_Per_Capita        116694\n",
      "Internet_Users_Pct     91.49\n",
      "Name: 2556, dtype: object\n"
     ]
    }
   ],
   "source": [
    "print(max_gdp_2014)"
   ]
  },
  {
   "cell_type": "code",
   "execution_count": 37,
   "metadata": {},
   "outputs": [
    {
     "name": "stdout",
     "output_type": "stream",
     "text": [
      "Country               Mauritania\n",
      "Year                        2014\n",
      "GDP_Per_Capita           377.909\n",
      "Internet_Users_Pct          10.7\n",
      "Name: 1983, dtype: object\n"
     ]
    }
   ],
   "source": [
    "print(min_gdp_2014)"
   ]
  },
  {
   "cell_type": "markdown",
   "metadata": {},
   "source": [
    "# <font color = blue> Question 23 & 24 (Scatter Plots & Insight)"
   ]
  },
  {
   "cell_type": "code",
   "execution_count": 38,
   "metadata": {},
   "outputs": [
    {
     "data": {
      "text/plain": [
       "([<matplotlib.axis.YTick at 0x1cc0df88978>,\n",
       "  <matplotlib.axis.YTick at 0x1cc0df882e8>,\n",
       "  <matplotlib.axis.YTick at 0x1cc0df48978>,\n",
       "  <matplotlib.axis.YTick at 0x1cc0e018c88>,\n",
       "  <matplotlib.axis.YTick at 0x1cc0e260198>,\n",
       "  <matplotlib.axis.YTick at 0x1cc0e260668>,\n",
       "  <matplotlib.axis.YTick at 0x1cc0e018828>],\n",
       " <a list of 7 Text yticklabel objects>)"
      ]
     },
     "execution_count": 38,
     "metadata": {},
     "output_type": "execute_result"
    },
    {
     "data": {
      "image/png": "[encoded data removed]",
      "text/plain": [
       "<Figure size 432x288 with 1 Axes>"
      ]
     },
     "metadata": {
      "needs_background": "light"
     },
     "output_type": "display_data"
    }
   ],
   "source": [
    "plt.scatter(year_2004[\"Internet_Users_Pct\"], year_2004[\"GDP_Per_Capita\"], color = \"Green\", s = 15)\n",
    "plt.ylabel(\"GDP Per Capita\")\n",
    "plt.xlabel(\"Percent of Internet Usage\")\n",
    "plt.title(\"2004 GDP vs Internet Usage\")\n",
    "plt.xticks([0,20,40,60,80], [\"0%\", \"20%\", \"40%\", \"60%\", \"80%\"])\n",
    "plt.yticks([0, 20000, 40000, 60000, 80000, 100000, 120000], [\"0\", \"20k\", \"40k\", '60k', '80k', '100k', '120k'])"
   ]
  },
  {
   "cell_type": "code",
   "execution_count": 39,
   "metadata": {},
   "outputs": [
    {
     "data": {
      "text/plain": [
       "([<matplotlib.axis.YTick at 0x1cc0e2c3908>,\n",
       "  <matplotlib.axis.YTick at 0x1cc0e2c3240>,\n",
       "  <matplotlib.axis.YTick at 0x1cc0e2ba400>,\n",
       "  <matplotlib.axis.YTick at 0x1cc0e2e6c18>,\n",
       "  <matplotlib.axis.YTick at 0x1cc0e2e6a90>,\n",
       "  <matplotlib.axis.YTick at 0x1cc0e2dfcc0>,\n",
       "  <matplotlib.axis.YTick at 0x1cc0e2f4518>],\n",
       " <a list of 7 Text yticklabel objects>)"
      ]
     },
     "execution_count": 39,
     "metadata": {},
     "output_type": "execute_result"
    },
    {
     "data": {
      "image/png": "[encoded data removed]",
      "text/plain": [
       "<Figure size 432x288 with 1 Axes>"
      ]
     },
     "metadata": {
      "needs_background": "light"
     },
     "output_type": "display_data"
    }
   ],
   "source": [
    "plt.scatter(year_2009[\"Internet_Users_Pct\"], year_2009[\"GDP_Per_Capita\"], color = \"Green\", s = 15)\n",
    "plt.ylabel(\"GDP Per Capita\")\n",
    "plt.xlabel(\"Percent of Internet Usage\")\n",
    "plt.title(\"GDP vs Internet Usage\")\n",
    "plt.xticks([0,20,40,60,80], [\"0%\", \"20%\", \"40%\", \"60%\", \"80%\"])\n",
    "plt.yticks([0, 20000, 40000, 60000, 80000, 100000, 120000], [\"0\", \"20k\", \"40k\", '60k', '80k', '100k', '120k'])"
   ]
  },
  {
   "cell_type": "code",
   "execution_count": 40,
   "metadata": {},
   "outputs": [
    {
     "data": {
      "text/plain": [
       "([<matplotlib.axis.YTick at 0x1cc0e323320>,\n",
       "  <matplotlib.axis.YTick at 0x1cc0e31dc50>,\n",
       "  <matplotlib.axis.YTick at 0x1cc0e314d68>,\n",
       "  <matplotlib.axis.YTick at 0x1cc0e3449b0>,\n",
       "  <matplotlib.axis.YTick at 0x1cc0e344f28>,\n",
       "  <matplotlib.axis.YTick at 0x1cc0e340dd8>,\n",
       "  <matplotlib.axis.YTick at 0x1cc0e3534a8>],\n",
       " <a list of 7 Text yticklabel objects>)"
      ]
     },
     "execution_count": 40,
     "metadata": {},
     "output_type": "execute_result"
    },
    {
     "data": {
      "image/png": "[encoded data removed]",
      "text/plain": [
       "<Figure size 432x288 with 1 Axes>"
      ]
     },
     "metadata": {
      "needs_background": "light"
     },
     "output_type": "display_data"
    }
   ],
   "source": [
    "plt.scatter(year_2014[\"Internet_Users_Pct\"], year_2014[\"GDP_Per_Capita\"], color = \"Green\", s = 15)\n",
    "plt.ylabel(\"GDP Per Capita\")\n",
    "plt.xlabel(\"Percent of Internet Usage\")\n",
    "plt.title(\"GDP vs Internet Usage\")\n",
    "plt.xticks([0,20,40,60,80], [\"0%\", \"20%\", \"40%\", \"60%\", \"80%\"])\n",
    "plt.yticks([0, 20000, 40000, 60000, 80000, 100000, 120000], [\"0\", \"20k\", \"40k\", '60k', '80k', '100k', '120k'])"
   ]
  },
  {
   "cell_type": "markdown",
   "metadata": {},
   "source": [
    "As the years go on, the GDP becomes more and more dependant on internet usage. In 2004 you have a fairly dispersed data-set, where in 2014 everything tightens up and demonstrates the curve. The amount of internet usage directly correlates with the GDP Per Capita"
   ]
  },
  {
   "cell_type": "markdown",
   "metadata": {},
   "source": [
    "# <font color = blue> Question 24 & 25 (Histograms)"
   ]
  },
  {
   "cell_type": "code",
   "execution_count": 41,
   "metadata": {},
   "outputs": [
    {
     "data": {
      "text/plain": [
       "(array([93., 35., 21.,  8.,  4.,  1.,  1.,  1.]),\n",
       " array([   377.9089162 ,  14917.35876432,  29456.80861244,  43996.25846056,\n",
       "         58535.70830868,  73075.1581568 ,  87614.60800492, 102154.05785304,\n",
       "        116693.50770116]),\n",
       " <a list of 8 Patch objects>)"
      ]
     },
     "execution_count": 41,
     "metadata": {},
     "output_type": "execute_result"
    },
    {
     "data": {
      "image/png": "[encoded data removed]",
      "text/plain": [
       "<Figure size 432x288 with 1 Axes>"
      ]
     },
     "metadata": {
      "needs_background": "light"
     },
     "output_type": "display_data"
    }
   ],
   "source": [
    "plt.hist(year_2014[\"GDP_Per_Capita\"], bins = 8)"
   ]
  },
  {
   "cell_type": "markdown",
   "metadata": {},
   "source": [
    "This is unimodal."
   ]
  },
  {
   "cell_type": "code",
   "execution_count": 42,
   "metadata": {},
   "outputs": [
    {
     "data": {
      "text/plain": [
       "(array([34., 25.,  8., 26., 17., 19., 19., 16.]),\n",
       " array([ 1.14  , 13.2675, 25.395 , 37.5225, 49.65  , 61.7775, 73.905 ,\n",
       "        86.0325, 98.16  ]),\n",
       " <a list of 8 Patch objects>)"
      ]
     },
     "execution_count": 42,
     "metadata": {},
     "output_type": "execute_result"
    },
    {
     "data": {
      "image/png": "[encoded data removed]",
      "text/plain": [
       "<Figure size 432x288 with 1 Axes>"
      ]
     },
     "metadata": {
      "needs_background": "light"
     },
     "output_type": "display_data"
    }
   ],
   "source": [
    "plt.hist(year_2014[\"Internet_Users_Pct\"], bins = 8)"
   ]
  },
  {
   "cell_type": "markdown",
   "metadata": {},
   "source": [
    "This is not unimodal"
   ]
  },
  {
   "cell_type": "markdown",
   "metadata": {},
   "source": [
    "# <font color = blue> Question 27 (Top 5 Countries Users)"
   ]
  },
  {
   "cell_type": "code",
   "execution_count": 43,
   "metadata": {},
   "outputs": [],
   "source": [
    "Top_Internet_Users = year_2014.sort_values('Internet_Users_Pct', ascending=False)"
   ]
  },
  {
   "cell_type": "code",
   "execution_count": 44,
   "metadata": {},
   "outputs": [
    {
     "data": {
      "text/html": [
       "<div>\n",
       "<style scoped>\n",
       "    .dataframe tbody tr th:only-of-type {\n",
       "        vertical-align: middle;\n",
       "    }\n",
       "\n",
       "    .dataframe tbody tr th {\n",
       "        vertical-align: top;\n",
       "    }\n",
       "\n",
       "    .dataframe thead th {\n",
       "        text-align: right;\n",
       "    }\n",
       "</style>\n",
       "<table border=\"1\" class=\"dataframe\">\n",
       "  <thead>\n",
       "    <tr style=\"text-align: right;\">\n",
       "      <th></th>\n",
       "      <th>Country</th>\n",
       "      <th>Year</th>\n",
       "      <th>GDP_Per_Capita</th>\n",
       "      <th>Internet_Users_Pct</th>\n",
       "    </tr>\n",
       "  </thead>\n",
       "  <tbody>\n",
       "    <tr>\n",
       "      <th>1395</th>\n",
       "      <td>Iceland</td>\n",
       "      <td>2014</td>\n",
       "      <td>42774.888851</td>\n",
       "      <td>98.16</td>\n",
       "    </tr>\n",
       "    <tr>\n",
       "      <th>2310</th>\n",
       "      <td>Norway</td>\n",
       "      <td>2014</td>\n",
       "      <td>63419.314779</td>\n",
       "      <td>96.30</td>\n",
       "    </tr>\n",
       "    <tr>\n",
       "      <th>854</th>\n",
       "      <td>Denmark</td>\n",
       "      <td>2014</td>\n",
       "      <td>45057.074170</td>\n",
       "      <td>95.99</td>\n",
       "    </tr>\n",
       "    <tr>\n",
       "      <th>1812</th>\n",
       "      <td>Luxembourg</td>\n",
       "      <td>2014</td>\n",
       "      <td>92349.186486</td>\n",
       "      <td>94.67</td>\n",
       "    </tr>\n",
       "    <tr>\n",
       "      <th>2199</th>\n",
       "      <td>Netherlands</td>\n",
       "      <td>2014</td>\n",
       "      <td>46238.209702</td>\n",
       "      <td>93.17</td>\n",
       "    </tr>\n",
       "  </tbody>\n",
       "</table>\n",
       "</div>"
      ],
      "text/plain": [
       "          Country  Year  GDP_Per_Capita  Internet_Users_Pct\n",
       "1395      Iceland  2014    42774.888851               98.16\n",
       "2310       Norway  2014    63419.314779               96.30\n",
       "854       Denmark  2014    45057.074170               95.99\n",
       "1812   Luxembourg  2014    92349.186486               94.67\n",
       "2199  Netherlands  2014    46238.209702               93.17"
      ]
     },
     "execution_count": 44,
     "metadata": {},
     "output_type": "execute_result"
    }
   ],
   "source": [
    "Top_Internet_Users.head()"
   ]
  },
  {
   "cell_type": "code",
   "execution_count": 45,
   "metadata": {},
   "outputs": [],
   "source": [
    "Top_5_Countries = Top_Internet_Users.head()"
   ]
  },
  {
   "cell_type": "code",
   "execution_count": 46,
   "metadata": {
    "scrolled": true
   },
   "outputs": [
    {
     "data": {
      "text/html": [
       "<div>\n",
       "<style scoped>\n",
       "    .dataframe tbody tr th:only-of-type {\n",
       "        vertical-align: middle;\n",
       "    }\n",
       "\n",
       "    .dataframe tbody tr th {\n",
       "        vertical-align: top;\n",
       "    }\n",
       "\n",
       "    .dataframe thead th {\n",
       "        text-align: right;\n",
       "    }\n",
       "</style>\n",
       "<table border=\"1\" class=\"dataframe\">\n",
       "  <thead>\n",
       "    <tr style=\"text-align: right;\">\n",
       "      <th></th>\n",
       "      <th>Country</th>\n",
       "      <th>Year</th>\n",
       "      <th>GDP_Per_Capita</th>\n",
       "      <th>Internet_Users_Pct</th>\n",
       "    </tr>\n",
       "  </thead>\n",
       "  <tbody>\n",
       "    <tr>\n",
       "      <th>1395</th>\n",
       "      <td>Iceland</td>\n",
       "      <td>2014</td>\n",
       "      <td>42774.888851</td>\n",
       "      <td>98.16</td>\n",
       "    </tr>\n",
       "    <tr>\n",
       "      <th>2310</th>\n",
       "      <td>Norway</td>\n",
       "      <td>2014</td>\n",
       "      <td>63419.314779</td>\n",
       "      <td>96.30</td>\n",
       "    </tr>\n",
       "    <tr>\n",
       "      <th>854</th>\n",
       "      <td>Denmark</td>\n",
       "      <td>2014</td>\n",
       "      <td>45057.074170</td>\n",
       "      <td>95.99</td>\n",
       "    </tr>\n",
       "    <tr>\n",
       "      <th>1812</th>\n",
       "      <td>Luxembourg</td>\n",
       "      <td>2014</td>\n",
       "      <td>92349.186486</td>\n",
       "      <td>94.67</td>\n",
       "    </tr>\n",
       "    <tr>\n",
       "      <th>2199</th>\n",
       "      <td>Netherlands</td>\n",
       "      <td>2014</td>\n",
       "      <td>46238.209702</td>\n",
       "      <td>93.17</td>\n",
       "    </tr>\n",
       "  </tbody>\n",
       "</table>\n",
       "</div>"
      ],
      "text/plain": [
       "          Country  Year  GDP_Per_Capita  Internet_Users_Pct\n",
       "1395      Iceland  2014    42774.888851               98.16\n",
       "2310       Norway  2014    63419.314779               96.30\n",
       "854       Denmark  2014    45057.074170               95.99\n",
       "1812   Luxembourg  2014    92349.186486               94.67\n",
       "2199  Netherlands  2014    46238.209702               93.17"
      ]
     },
     "execution_count": 46,
     "metadata": {},
     "output_type": "execute_result"
    }
   ],
   "source": [
    "Top_5_Countries"
   ]
  },
  {
   "cell_type": "markdown",
   "metadata": {},
   "source": [
    "# <font color = blue> Question 28 (Top 5 Internet Users for Specified Years)"
   ]
  },
  {
   "cell_type": "code",
   "execution_count": 47,
   "metadata": {},
   "outputs": [],
   "source": [
    "Top_5_Internet = yearly_gdp.loc[yearly_gdp.Country.isin(Top_5_Countries[\"Country\"])]"
   ]
  },
  {
   "cell_type": "code",
   "execution_count": null,
   "metadata": {},
   "outputs": [],
   "source": []
  },
  {
   "cell_type": "code",
   "execution_count": 48,
   "metadata": {},
   "outputs": [
    {
     "data": {
      "text/html": [
       "<div>\n",
       "<style scoped>\n",
       "    .dataframe tbody tr th:only-of-type {\n",
       "        vertical-align: middle;\n",
       "    }\n",
       "\n",
       "    .dataframe tbody tr th {\n",
       "        vertical-align: top;\n",
       "    }\n",
       "\n",
       "    .dataframe thead th {\n",
       "        text-align: right;\n",
       "    }\n",
       "</style>\n",
       "<table border=\"1\" class=\"dataframe\">\n",
       "  <thead>\n",
       "    <tr style=\"text-align: right;\">\n",
       "      <th></th>\n",
       "      <th>Country</th>\n",
       "      <th>Year</th>\n",
       "      <th>GDP_Per_Capita</th>\n",
       "      <th>Internet_Users_Pct</th>\n",
       "    </tr>\n",
       "  </thead>\n",
       "  <tbody>\n",
       "    <tr>\n",
       "      <th>854</th>\n",
       "      <td>Denmark</td>\n",
       "      <td>2014</td>\n",
       "      <td>45057.074170</td>\n",
       "      <td>95.99</td>\n",
       "    </tr>\n",
       "    <tr>\n",
       "      <th>859</th>\n",
       "      <td>Denmark</td>\n",
       "      <td>2009</td>\n",
       "      <td>43382.625459</td>\n",
       "      <td>86.84</td>\n",
       "    </tr>\n",
       "    <tr>\n",
       "      <th>864</th>\n",
       "      <td>Denmark</td>\n",
       "      <td>2004</td>\n",
       "      <td>43670.445300</td>\n",
       "      <td>80.93</td>\n",
       "    </tr>\n",
       "    <tr>\n",
       "      <th>1395</th>\n",
       "      <td>Iceland</td>\n",
       "      <td>2014</td>\n",
       "      <td>42774.888851</td>\n",
       "      <td>98.16</td>\n",
       "    </tr>\n",
       "    <tr>\n",
       "      <th>1400</th>\n",
       "      <td>Iceland</td>\n",
       "      <td>2009</td>\n",
       "      <td>41505.084835</td>\n",
       "      <td>93.00</td>\n",
       "    </tr>\n",
       "    <tr>\n",
       "      <th>1405</th>\n",
       "      <td>Iceland</td>\n",
       "      <td>2004</td>\n",
       "      <td>38893.378800</td>\n",
       "      <td>83.88</td>\n",
       "    </tr>\n",
       "    <tr>\n",
       "      <th>1812</th>\n",
       "      <td>Luxembourg</td>\n",
       "      <td>2014</td>\n",
       "      <td>92349.186486</td>\n",
       "      <td>94.67</td>\n",
       "    </tr>\n",
       "    <tr>\n",
       "      <th>1817</th>\n",
       "      <td>Luxembourg</td>\n",
       "      <td>2009</td>\n",
       "      <td>89098.734244</td>\n",
       "      <td>87.31</td>\n",
       "    </tr>\n",
       "    <tr>\n",
       "      <th>1822</th>\n",
       "      <td>Luxembourg</td>\n",
       "      <td>2004</td>\n",
       "      <td>87209.819398</td>\n",
       "      <td>65.88</td>\n",
       "    </tr>\n",
       "    <tr>\n",
       "      <th>2199</th>\n",
       "      <td>Netherlands</td>\n",
       "      <td>2014</td>\n",
       "      <td>46238.209702</td>\n",
       "      <td>93.17</td>\n",
       "    </tr>\n",
       "    <tr>\n",
       "      <th>2204</th>\n",
       "      <td>Netherlands</td>\n",
       "      <td>2009</td>\n",
       "      <td>45724.862767</td>\n",
       "      <td>89.63</td>\n",
       "    </tr>\n",
       "    <tr>\n",
       "      <th>2209</th>\n",
       "      <td>Netherlands</td>\n",
       "      <td>2004</td>\n",
       "      <td>43048.313769</td>\n",
       "      <td>68.52</td>\n",
       "    </tr>\n",
       "    <tr>\n",
       "      <th>2310</th>\n",
       "      <td>Norway</td>\n",
       "      <td>2014</td>\n",
       "      <td>63419.314779</td>\n",
       "      <td>96.30</td>\n",
       "    </tr>\n",
       "    <tr>\n",
       "      <th>2315</th>\n",
       "      <td>Norway</td>\n",
       "      <td>2009</td>\n",
       "      <td>62698.285355</td>\n",
       "      <td>92.08</td>\n",
       "    </tr>\n",
       "    <tr>\n",
       "      <th>2320</th>\n",
       "      <td>Norway</td>\n",
       "      <td>2004</td>\n",
       "      <td>61675.600782</td>\n",
       "      <td>77.69</td>\n",
       "    </tr>\n",
       "  </tbody>\n",
       "</table>\n",
       "</div>"
      ],
      "text/plain": [
       "          Country  Year  GDP_Per_Capita  Internet_Users_Pct\n",
       "854       Denmark  2014    45057.074170               95.99\n",
       "859       Denmark  2009    43382.625459               86.84\n",
       "864       Denmark  2004    43670.445300               80.93\n",
       "1395      Iceland  2014    42774.888851               98.16\n",
       "1400      Iceland  2009    41505.084835               93.00\n",
       "1405      Iceland  2004    38893.378800               83.88\n",
       "1812   Luxembourg  2014    92349.186486               94.67\n",
       "1817   Luxembourg  2009    89098.734244               87.31\n",
       "1822   Luxembourg  2004    87209.819398               65.88\n",
       "2199  Netherlands  2014    46238.209702               93.17\n",
       "2204  Netherlands  2009    45724.862767               89.63\n",
       "2209  Netherlands  2004    43048.313769               68.52\n",
       "2310       Norway  2014    63419.314779               96.30\n",
       "2315       Norway  2009    62698.285355               92.08\n",
       "2320       Norway  2004    61675.600782               77.69"
      ]
     },
     "execution_count": 48,
     "metadata": {},
     "output_type": "execute_result"
    }
   ],
   "source": [
    "Top_5_Internet"
   ]
  },
  {
   "cell_type": "markdown",
   "metadata": {},
   "source": [
    "# <font color = blue> Question 29 (Seaborn Facet Grids)"
   ]
  },
  {
   "cell_type": "code",
   "execution_count": 62,
   "metadata": {},
   "outputs": [
    {
     "data": {
      "text/plain": [
       "<seaborn.axisgrid.FacetGrid at 0x1cc0fb5a2e8>"
      ]
     },
     "execution_count": 62,
     "metadata": {},
     "output_type": "execute_result"
    },
    {
     "data": {
      "image/png": "[encoded data removed]",
      "text/plain": [
       "<Figure size 1365.28x1152 with 3 Axes>"
      ]
     },
     "metadata": {},
     "output_type": "display_data"
    }
   ],
   "source": [
    "sns.set(style = \"ticks\")\n",
    "x = sns.FacetGrid(Top_5_Internet, col = \"Year\", hue = \"Country\", col_wrap = 2, height = 8)\n",
    "x = x.map(plt.bar, \"Country\", \"Internet_Users_Pct\")\n",
    "x.add_legend(ncol = 2, title = \"Highest Percentage of Internet Users\")\n"
   ]
  },
  {
   "cell_type": "markdown",
   "metadata": {},
   "source": [
    "# <font color = blue> Question 30"
   ]
  },
  {
   "cell_type": "code",
   "execution_count": 50,
   "metadata": {},
   "outputs": [],
   "source": [
    "Bottom_Internet_Users = year_2014.sort_values('Internet_Users_Pct', ascending=True)"
   ]
  },
  {
   "cell_type": "code",
   "execution_count": 51,
   "metadata": {},
   "outputs": [
    {
     "data": {
      "text/html": [
       "<div>\n",
       "<style scoped>\n",
       "    .dataframe tbody tr th:only-of-type {\n",
       "        vertical-align: middle;\n",
       "    }\n",
       "\n",
       "    .dataframe tbody tr th {\n",
       "        vertical-align: top;\n",
       "    }\n",
       "\n",
       "    .dataframe thead th {\n",
       "        text-align: right;\n",
       "    }\n",
       "</style>\n",
       "<table border=\"1\" class=\"dataframe\">\n",
       "  <thead>\n",
       "    <tr style=\"text-align: right;\">\n",
       "      <th></th>\n",
       "      <th>Country</th>\n",
       "      <th>Year</th>\n",
       "      <th>GDP_Per_Capita</th>\n",
       "      <th>Internet_Users_Pct</th>\n",
       "    </tr>\n",
       "  </thead>\n",
       "  <tbody>\n",
       "    <tr>\n",
       "      <th>3104</th>\n",
       "      <td>Timor-Leste</td>\n",
       "      <td>2014</td>\n",
       "      <td>6466.737708</td>\n",
       "      <td>1.14</td>\n",
       "    </tr>\n",
       "    <tr>\n",
       "      <th>539</th>\n",
       "      <td>Burundi</td>\n",
       "      <td>2014</td>\n",
       "      <td>768.469837</td>\n",
       "      <td>1.38</td>\n",
       "    </tr>\n",
       "    <tr>\n",
       "      <th>1275</th>\n",
       "      <td>Guinea</td>\n",
       "      <td>2014</td>\n",
       "      <td>1836.561073</td>\n",
       "      <td>1.72</td>\n",
       "    </tr>\n",
       "    <tr>\n",
       "      <th>2270</th>\n",
       "      <td>Niger</td>\n",
       "      <td>2014</td>\n",
       "      <td>900.136918</td>\n",
       "      <td>1.95</td>\n",
       "    </tr>\n",
       "    <tr>\n",
       "      <th>2742</th>\n",
       "      <td>Sierra Leone</td>\n",
       "      <td>2014</td>\n",
       "      <td>1707.097335</td>\n",
       "      <td>2.10</td>\n",
       "    </tr>\n",
       "  </tbody>\n",
       "</table>\n",
       "</div>"
      ],
      "text/plain": [
       "           Country  Year  GDP_Per_Capita  Internet_Users_Pct\n",
       "3104   Timor-Leste  2014     6466.737708                1.14\n",
       "539        Burundi  2014      768.469837                1.38\n",
       "1275        Guinea  2014     1836.561073                1.72\n",
       "2270         Niger  2014      900.136918                1.95\n",
       "2742  Sierra Leone  2014     1707.097335                2.10"
      ]
     },
     "execution_count": 51,
     "metadata": {},
     "output_type": "execute_result"
    }
   ],
   "source": [
    "Bottom_Internet_Users.head()"
   ]
  },
  {
   "cell_type": "code",
   "execution_count": 52,
   "metadata": {},
   "outputs": [],
   "source": [
    "Bottom_5_Countries = Bottom_Internet_Users.head()"
   ]
  },
  {
   "cell_type": "code",
   "execution_count": 53,
   "metadata": {},
   "outputs": [],
   "source": [
    "Bottom_5_Internet = yearly_gdp.loc[yearly_gdp.Country.isin(Bottom_5_Countries[\"Country\"])]"
   ]
  },
  {
   "cell_type": "code",
   "execution_count": 54,
   "metadata": {},
   "outputs": [
    {
     "data": {
      "text/html": [
       "<div>\n",
       "<style scoped>\n",
       "    .dataframe tbody tr th:only-of-type {\n",
       "        vertical-align: middle;\n",
       "    }\n",
       "\n",
       "    .dataframe tbody tr th {\n",
       "        vertical-align: top;\n",
       "    }\n",
       "\n",
       "    .dataframe thead th {\n",
       "        text-align: right;\n",
       "    }\n",
       "</style>\n",
       "<table border=\"1\" class=\"dataframe\">\n",
       "  <thead>\n",
       "    <tr style=\"text-align: right;\">\n",
       "      <th></th>\n",
       "      <th>Country</th>\n",
       "      <th>Year</th>\n",
       "      <th>GDP_Per_Capita</th>\n",
       "      <th>Internet_Users_Pct</th>\n",
       "    </tr>\n",
       "  </thead>\n",
       "  <tbody>\n",
       "    <tr>\n",
       "      <th>539</th>\n",
       "      <td>Burundi</td>\n",
       "      <td>2014</td>\n",
       "      <td>768.469837</td>\n",
       "      <td>1.380000</td>\n",
       "    </tr>\n",
       "    <tr>\n",
       "      <th>544</th>\n",
       "      <td>Burundi</td>\n",
       "      <td>2009</td>\n",
       "      <td>721.063140</td>\n",
       "      <td>0.900000</td>\n",
       "    </tr>\n",
       "    <tr>\n",
       "      <th>549</th>\n",
       "      <td>Burundi</td>\n",
       "      <td>2004</td>\n",
       "      <td>708.833720</td>\n",
       "      <td>0.349060</td>\n",
       "    </tr>\n",
       "    <tr>\n",
       "      <th>1275</th>\n",
       "      <td>Guinea</td>\n",
       "      <td>2014</td>\n",
       "      <td>1836.561073</td>\n",
       "      <td>1.720000</td>\n",
       "    </tr>\n",
       "    <tr>\n",
       "      <th>1280</th>\n",
       "      <td>Guinea</td>\n",
       "      <td>2009</td>\n",
       "      <td>1626.174435</td>\n",
       "      <td>0.940000</td>\n",
       "    </tr>\n",
       "    <tr>\n",
       "      <th>1285</th>\n",
       "      <td>Guinea</td>\n",
       "      <td>2004</td>\n",
       "      <td>1583.618832</td>\n",
       "      <td>0.508819</td>\n",
       "    </tr>\n",
       "    <tr>\n",
       "      <th>2270</th>\n",
       "      <td>Niger</td>\n",
       "      <td>2014</td>\n",
       "      <td>900.136918</td>\n",
       "      <td>1.950000</td>\n",
       "    </tr>\n",
       "    <tr>\n",
       "      <th>2275</th>\n",
       "      <td>Niger</td>\n",
       "      <td>2009</td>\n",
       "      <td>778.982257</td>\n",
       "      <td>0.760000</td>\n",
       "    </tr>\n",
       "    <tr>\n",
       "      <th>2280</th>\n",
       "      <td>Niger</td>\n",
       "      <td>2004</td>\n",
       "      <td>757.751262</td>\n",
       "      <td>0.189934</td>\n",
       "    </tr>\n",
       "    <tr>\n",
       "      <th>2742</th>\n",
       "      <td>Sierra Leone</td>\n",
       "      <td>2014</td>\n",
       "      <td>1707.097335</td>\n",
       "      <td>2.100000</td>\n",
       "    </tr>\n",
       "    <tr>\n",
       "      <th>2747</th>\n",
       "      <td>Sierra Leone</td>\n",
       "      <td>2009</td>\n",
       "      <td>1172.862734</td>\n",
       "      <td>0.260000</td>\n",
       "    </tr>\n",
       "    <tr>\n",
       "      <th>2752</th>\n",
       "      <td>Sierra Leone</td>\n",
       "      <td>2004</td>\n",
       "      <td>1057.693494</td>\n",
       "      <td>0.203008</td>\n",
       "    </tr>\n",
       "    <tr>\n",
       "      <th>3104</th>\n",
       "      <td>Timor-Leste</td>\n",
       "      <td>2014</td>\n",
       "      <td>6466.737708</td>\n",
       "      <td>1.140000</td>\n",
       "    </tr>\n",
       "    <tr>\n",
       "      <th>3109</th>\n",
       "      <td>Timor-Leste</td>\n",
       "      <td>2009</td>\n",
       "      <td>9275.529304</td>\n",
       "      <td>0.185252</td>\n",
       "    </tr>\n",
       "  </tbody>\n",
       "</table>\n",
       "</div>"
      ],
      "text/plain": [
       "           Country  Year  GDP_Per_Capita  Internet_Users_Pct\n",
       "539        Burundi  2014      768.469837            1.380000\n",
       "544        Burundi  2009      721.063140            0.900000\n",
       "549        Burundi  2004      708.833720            0.349060\n",
       "1275        Guinea  2014     1836.561073            1.720000\n",
       "1280        Guinea  2009     1626.174435            0.940000\n",
       "1285        Guinea  2004     1583.618832            0.508819\n",
       "2270         Niger  2014      900.136918            1.950000\n",
       "2275         Niger  2009      778.982257            0.760000\n",
       "2280         Niger  2004      757.751262            0.189934\n",
       "2742  Sierra Leone  2014     1707.097335            2.100000\n",
       "2747  Sierra Leone  2009     1172.862734            0.260000\n",
       "2752  Sierra Leone  2004     1057.693494            0.203008\n",
       "3104   Timor-Leste  2014     6466.737708            1.140000\n",
       "3109   Timor-Leste  2009     9275.529304            0.185252"
      ]
     },
     "execution_count": 54,
     "metadata": {},
     "output_type": "execute_result"
    }
   ],
   "source": [
    "Bottom_5_Internet"
   ]
  },
  {
   "cell_type": "markdown",
   "metadata": {},
   "source": [
    "# <font color = blue> Question 31"
   ]
  },
  {
   "cell_type": "code",
   "execution_count": 154,
   "metadata": {},
   "outputs": [],
   "source": [
    "Top_Countries = year_2014.sort_values('GDP_Per_Capita', ascending = False)"
   ]
  },
  {
   "cell_type": "code",
   "execution_count": 160,
   "metadata": {},
   "outputs": [],
   "source": [
    "Top_Countries_Final = Top_Countries.head(5)"
   ]
  },
  {
   "cell_type": "code",
   "execution_count": 162,
   "metadata": {},
   "outputs": [],
   "source": [
    "Top_5_GDP = yearly_gdp.loc[yearly_gdp.Country.isin(Top_Countries_Final[\"Country\"])]"
   ]
  },
  {
   "cell_type": "code",
   "execution_count": 163,
   "metadata": {
    "scrolled": false
   },
   "outputs": [
    {
     "data": {
      "text/plain": [
       "<seaborn.axisgrid.FacetGrid at 0x1cc11b4f358>"
      ]
     },
     "execution_count": 163,
     "metadata": {},
     "output_type": "execute_result"
    },
    {
     "data": {
      "image/png": "[encoded data removed]",
      "text/plain": [
       "<Figure size 1356.15x1152 with 3 Axes>"
      ]
     },
     "metadata": {},
     "output_type": "display_data"
    }
   ],
   "source": [
    "sns.set(style = \"ticks\")\n",
    "x = sns.FacetGrid(Top_5_GDP, col = \"Year\", hue = \"Country\", col_wrap = 2, height = 8)\n",
    "x = x.map(plt.bar, \"Country\", \"GDP_Per_Capita\")\n",
    "x.add_legend(ncol = 2, title = \"Highest Percentage of Internet Users\")"
   ]
  },
  {
   "cell_type": "code",
   "execution_count": 172,
   "metadata": {},
   "outputs": [],
   "source": [
    "Bottom_GDP_Countries = year_2014.sort_values('GDP_Per_Capita', ascending = True)"
   ]
  },
  {
   "cell_type": "code",
   "execution_count": 173,
   "metadata": {},
   "outputs": [],
   "source": [
    "Bottom_Countries_Final = Bottom_GDP_Countries.head(5)"
   ]
  },
  {
   "cell_type": "code",
   "execution_count": 174,
   "metadata": {},
   "outputs": [],
   "source": [
    "Bottom_5_GDP = yearly_gdp.loc[yearly_gdp.Country.isin(Bottom_Countries_Final[\"Country\"])]"
   ]
  },
  {
   "cell_type": "code",
   "execution_count": 176,
   "metadata": {},
   "outputs": [
    {
     "data": {
      "text/plain": [
       "<seaborn.axisgrid.FacetGrid at 0x1cc143d9710>"
      ]
     },
     "execution_count": 176,
     "metadata": {},
     "output_type": "execute_result"
    },
    {
     "data": {
      "image/png": "[encoded data removed]",
      "text/plain": [
       "<Figure size 1359.53x1152 with 3 Axes>"
      ]
     },
     "metadata": {},
     "output_type": "display_data"
    }
   ],
   "source": [
    "sns.set(style = \"ticks\")\n",
    "x = sns.FacetGrid(Bottom_5_GDP, col = \"Year\", hue = \"Country\", col_wrap = 2, height = 8)\n",
    "x = x.map(plt.bar, \"Country\", \"GDP_Per_Capita\")\n",
    "x.add_legend(ncol = 2, title = \"Highest Percentage of Internet Users\")"
   ]
  },
  {
   "cell_type": "markdown",
   "metadata": {},
   "source": [
    "Mauritania Country seems to not be changing much with the times. This could be due in part to their geological location. With the majority of the country being dominated by the Sahara Dessert, and relying on Agriculture and Live Stock as well as petty trade for their economy does not bode well for growth. Not to mention this country has a severely low literacy with an adult literacy rate of 45.5%."
   ]
  },
  {
   "cell_type": "markdown",
   "metadata": {},
   "source": [
    "# <font color = blue> Bonus!"
   ]
  },
  {
   "cell_type": "code",
   "execution_count": 207,
   "metadata": {},
   "outputs": [],
   "source": [
    "homicide_df = pd.read_csv(\"./Data/Intentional homicide victims^J total counts and rat.xls.csv\", encoding = \"ISO-8859-1\", nrows = 235)"
   ]
  },
  {
   "cell_type": "markdown",
   "metadata": {},
   "source": [
    "#### <font color = grey> Renamed columns and sorted by Total Homicides and Percent/ 100k people."
   ]
  },
  {
   "cell_type": "code",
   "execution_count": 208,
   "metadata": {},
   "outputs": [],
   "source": [
    "cleaned_homicide_df = homicide_df.rename(columns={\"UNODC Name\":\"Country\"})"
   ]
  },
  {
   "cell_type": "code",
   "execution_count": 209,
   "metadata": {},
   "outputs": [],
   "source": [
    "total_homicides = cleaned_homicide_df.loc[:, '2000':'2016']\n",
    "percent_homicide = cleaned_homicide_df.loc[:, '2000.1':'2016.1']\n",
    "countries = cleaned_homicide_df.loc[:, \"Region\":\"Country\"]"
   ]
  },
  {
   "cell_type": "code",
   "execution_count": 210,
   "metadata": {},
   "outputs": [
    {
     "data": {
      "text/html": [
       "<div>\n",
       "<style scoped>\n",
       "    .dataframe tbody tr th:only-of-type {\n",
       "        vertical-align: middle;\n",
       "    }\n",
       "\n",
       "    .dataframe tbody tr th {\n",
       "        vertical-align: top;\n",
       "    }\n",
       "\n",
       "    .dataframe thead th {\n",
       "        text-align: right;\n",
       "    }\n",
       "</style>\n",
       "<table border=\"1\" class=\"dataframe\">\n",
       "  <thead>\n",
       "    <tr style=\"text-align: right;\">\n",
       "      <th></th>\n",
       "      <th>2000.1</th>\n",
       "      <th>2001.1</th>\n",
       "      <th>2002.1</th>\n",
       "      <th>2003.1</th>\n",
       "      <th>2004.1</th>\n",
       "      <th>2005.1</th>\n",
       "      <th>2006.1</th>\n",
       "      <th>2007.1</th>\n",
       "      <th>2008.1</th>\n",
       "      <th>2009.1</th>\n",
       "      <th>2010.1</th>\n",
       "      <th>2011.1</th>\n",
       "      <th>2012.1</th>\n",
       "      <th>2013.1</th>\n",
       "      <th>2014.1</th>\n",
       "      <th>2015.1</th>\n",
       "      <th>2016.1</th>\n",
       "    </tr>\n",
       "  </thead>\n",
       "  <tbody>\n",
       "    <tr>\n",
       "      <th>0</th>\n",
       "      <td>NaN</td>\n",
       "      <td>NaN</td>\n",
       "      <td>NaN</td>\n",
       "      <td>NaN</td>\n",
       "      <td>NaN</td>\n",
       "      <td>NaN</td>\n",
       "      <td>NaN</td>\n",
       "      <td>NaN</td>\n",
       "      <td>4.2</td>\n",
       "      <td>4.4</td>\n",
       "      <td>4</td>\n",
       "      <td>3.9</td>\n",
       "      <td>5.4</td>\n",
       "      <td>5.4</td>\n",
       "      <td>5.7</td>\n",
       "      <td>4.5</td>\n",
       "      <td>6</td>\n",
       "    </tr>\n",
       "    <tr>\n",
       "      <th>1</th>\n",
       "      <td>10.4</td>\n",
       "      <td>NaN</td>\n",
       "      <td>NaN</td>\n",
       "      <td>NaN</td>\n",
       "      <td>NaN</td>\n",
       "      <td>9.5</td>\n",
       "      <td>NaN</td>\n",
       "      <td>NaN</td>\n",
       "      <td>NaN</td>\n",
       "      <td>NaN</td>\n",
       "      <td>8.5</td>\n",
       "      <td>NaN</td>\n",
       "      <td>NaN</td>\n",
       "      <td>NaN</td>\n",
       "      <td>NaN</td>\n",
       "      <td>7.7</td>\n",
       "      <td>NaN</td>\n",
       "    </tr>\n",
       "  </tbody>\n",
       "</table>\n",
       "</div>"
      ],
      "text/plain": [
       "  2000.1 2001.1 2002.1 2003.1 2004.1 2005.1 2006.1 2007.1 2008.1 2009.1  \\\n",
       "0    NaN    NaN    NaN    NaN    NaN    NaN    NaN    NaN    4.2    4.4   \n",
       "1   10.4    NaN    NaN    NaN    NaN    9.5    NaN    NaN    NaN    NaN   \n",
       "\n",
       "  2010.1 2011.1 2012.1 2013.1 2014.1 2015.1 2016.1  \n",
       "0      4    3.9    5.4    5.4    5.7    4.5      6  \n",
       "1    8.5    NaN    NaN    NaN    NaN    7.7    NaN  "
      ]
     },
     "execution_count": 210,
     "metadata": {},
     "output_type": "execute_result"
    }
   ],
   "source": [
    "percent_homicide.head(2)"
   ]
  },
  {
   "cell_type": "markdown",
   "metadata": {},
   "source": [
    "#### <font color = grey> Create individual data frames and rename 2001. to 2000"
   ]
  },
  {
   "cell_type": "code",
   "execution_count": 211,
   "metadata": {},
   "outputs": [],
   "source": [
    "concat_total_df = pd.concat([countries, total_homicides], axis = 1)"
   ]
  },
  {
   "cell_type": "code",
   "execution_count": 212,
   "metadata": {},
   "outputs": [],
   "source": [
    "concat_percent_df = pd.concat([countries, percent_homicide], axis = 1)"
   ]
  },
  {
   "cell_type": "code",
   "execution_count": 213,
   "metadata": {},
   "outputs": [],
   "source": [
    "renamed_total_df = concat_total_df.rename(columns={\"2000.1\" : \"2000\",\"2001.1\" : \"2001\",\"2002.1\" : \"2002\",\"2003.1\" : \"2003\",\"2004.1\" : \"2004\",\"2005.1\" : \"2005\",\"2006.1\" : \"2006\",\"2007.1\" : \"2007\",\"2008.1\" : \"2008\",\"2009.1\" : \"2009\",\"2010.1\" : \"2010\",\"2011.1\" : \"2011\",\"2012.1\" : \"2012\",\"2013.1\" : \"2013\",\"2014.1\" : \"2014\",\"2015.1\" : \"2015\",\"2016.1\" : \"2016\"})"
   ]
  },
  {
   "cell_type": "code",
   "execution_count": 214,
   "metadata": {},
   "outputs": [],
   "source": [
    "renamed_percent_df = concat_percent_df.rename(columns={\"2000.1\" : \"2000\",\"2001.1\" : \"2001\",\"2002.1\" : \"2002\",\"2003.1\" : \"2003\",\"2004.1\" : \"2004\",\"2005.1\" : \"2005\",\"2006.1\" : \"2006\",\"2007.1\" : \"2007\",\"2008.1\" : \"2008\",\"2009.1\" : \"2009\",\"2010.1\" : \"2010\",\"2011.1\" : \"2011\",\"2012.1\" : \"2012\",\"2013.1\" : \"2013\",\"2014.1\" : \"2014\",\"2015.1\" : \"2015\",\"2016.1\" : \"2016\"})"
   ]
  },
  {
   "cell_type": "markdown",
   "metadata": {},
   "source": [
    "#### <font color =grey> Melt DF's into tidy data"
   ]
  },
  {
   "cell_type": "code",
   "execution_count": 215,
   "metadata": {},
   "outputs": [],
   "source": [
    "melted_percent = renamed_percent_df.melt(id_vars=[\"Region\", \"Subregion\", \"Country\"],\n",
    "...         var_name='Year', value_name='Homicides per 100K')"
   ]
  },
  {
   "cell_type": "code",
   "execution_count": 216,
   "metadata": {},
   "outputs": [],
   "source": [
    "melted_total = renamed_total_df.melt(id_vars=[\"Region\", \"Subregion\", \"Country\"],\n",
    "...         var_name='Year', value_name='Total Homicides')"
   ]
  },
  {
   "cell_type": "code",
   "execution_count": 217,
   "metadata": {},
   "outputs": [
    {
     "data": {
      "text/html": [
       "<div>\n",
       "<style scoped>\n",
       "    .dataframe tbody tr th:only-of-type {\n",
       "        vertical-align: middle;\n",
       "    }\n",
       "\n",
       "    .dataframe tbody tr th {\n",
       "        vertical-align: top;\n",
       "    }\n",
       "\n",
       "    .dataframe thead th {\n",
       "        text-align: right;\n",
       "    }\n",
       "</style>\n",
       "<table border=\"1\" class=\"dataframe\">\n",
       "  <thead>\n",
       "    <tr style=\"text-align: right;\">\n",
       "      <th></th>\n",
       "      <th>Region</th>\n",
       "      <th>Subregion</th>\n",
       "      <th>Country</th>\n",
       "      <th>Year</th>\n",
       "      <th>Homicides per 100K</th>\n",
       "    </tr>\n",
       "  </thead>\n",
       "  <tbody>\n",
       "    <tr>\n",
       "      <th>0</th>\n",
       "      <td>Africa</td>\n",
       "      <td>Eastern Africa</td>\n",
       "      <td>Burundi</td>\n",
       "      <td>2000</td>\n",
       "      <td>NaN</td>\n",
       "    </tr>\n",
       "    <tr>\n",
       "      <th>1</th>\n",
       "      <td>Africa</td>\n",
       "      <td>Eastern Africa</td>\n",
       "      <td>Comoros</td>\n",
       "      <td>2000</td>\n",
       "      <td>10.4</td>\n",
       "    </tr>\n",
       "    <tr>\n",
       "      <th>2</th>\n",
       "      <td>Africa</td>\n",
       "      <td>Eastern Africa</td>\n",
       "      <td>Djibouti</td>\n",
       "      <td>2000</td>\n",
       "      <td>8.9</td>\n",
       "    </tr>\n",
       "    <tr>\n",
       "      <th>3</th>\n",
       "      <td>Africa</td>\n",
       "      <td>Eastern Africa</td>\n",
       "      <td>Eritrea</td>\n",
       "      <td>2000</td>\n",
       "      <td>9.9</td>\n",
       "    </tr>\n",
       "    <tr>\n",
       "      <th>4</th>\n",
       "      <td>Africa</td>\n",
       "      <td>Eastern Africa</td>\n",
       "      <td>Ethiopia</td>\n",
       "      <td>2000</td>\n",
       "      <td>10.7</td>\n",
       "    </tr>\n",
       "  </tbody>\n",
       "</table>\n",
       "</div>"
      ],
      "text/plain": [
       "   Region       Subregion   Country  Year Homicides per 100K\n",
       "0  Africa  Eastern Africa   Burundi  2000                NaN\n",
       "1  Africa  Eastern Africa   Comoros  2000               10.4\n",
       "2  Africa  Eastern Africa  Djibouti  2000                8.9\n",
       "3  Africa  Eastern Africa   Eritrea  2000                9.9\n",
       "4  Africa  Eastern Africa  Ethiopia  2000               10.7"
      ]
     },
     "execution_count": 217,
     "metadata": {},
     "output_type": "execute_result"
    }
   ],
   "source": [
    "melted_percent.head()"
   ]
  },
  {
   "cell_type": "code",
   "execution_count": 218,
   "metadata": {},
   "outputs": [
    {
     "data": {
      "text/html": [
       "<div>\n",
       "<style scoped>\n",
       "    .dataframe tbody tr th:only-of-type {\n",
       "        vertical-align: middle;\n",
       "    }\n",
       "\n",
       "    .dataframe tbody tr th {\n",
       "        vertical-align: top;\n",
       "    }\n",
       "\n",
       "    .dataframe thead th {\n",
       "        text-align: right;\n",
       "    }\n",
       "</style>\n",
       "<table border=\"1\" class=\"dataframe\">\n",
       "  <thead>\n",
       "    <tr style=\"text-align: right;\">\n",
       "      <th></th>\n",
       "      <th>Region</th>\n",
       "      <th>Subregion</th>\n",
       "      <th>Country</th>\n",
       "      <th>Year</th>\n",
       "      <th>Total Homicides</th>\n",
       "    </tr>\n",
       "  </thead>\n",
       "  <tbody>\n",
       "    <tr>\n",
       "      <th>0</th>\n",
       "      <td>Africa</td>\n",
       "      <td>Eastern Africa</td>\n",
       "      <td>Burundi</td>\n",
       "      <td>2000</td>\n",
       "      <td>NaN</td>\n",
       "    </tr>\n",
       "    <tr>\n",
       "      <th>1</th>\n",
       "      <td>Africa</td>\n",
       "      <td>Eastern Africa</td>\n",
       "      <td>Comoros</td>\n",
       "      <td>2000</td>\n",
       "      <td>56</td>\n",
       "    </tr>\n",
       "    <tr>\n",
       "      <th>2</th>\n",
       "      <td>Africa</td>\n",
       "      <td>Eastern Africa</td>\n",
       "      <td>Djibouti</td>\n",
       "      <td>2000</td>\n",
       "      <td>64</td>\n",
       "    </tr>\n",
       "    <tr>\n",
       "      <th>3</th>\n",
       "      <td>Africa</td>\n",
       "      <td>Eastern Africa</td>\n",
       "      <td>Eritrea</td>\n",
       "      <td>2000</td>\n",
       "      <td>335</td>\n",
       "    </tr>\n",
       "    <tr>\n",
       "      <th>4</th>\n",
       "      <td>Africa</td>\n",
       "      <td>Eastern Africa</td>\n",
       "      <td>Ethiopia</td>\n",
       "      <td>2000</td>\n",
       "      <td>7,113</td>\n",
       "    </tr>\n",
       "  </tbody>\n",
       "</table>\n",
       "</div>"
      ],
      "text/plain": [
       "   Region       Subregion   Country  Year Total Homicides\n",
       "0  Africa  Eastern Africa   Burundi  2000             NaN\n",
       "1  Africa  Eastern Africa   Comoros  2000              56\n",
       "2  Africa  Eastern Africa  Djibouti  2000              64\n",
       "3  Africa  Eastern Africa   Eritrea  2000             335\n",
       "4  Africa  Eastern Africa  Ethiopia  2000           7,113"
      ]
     },
     "execution_count": 218,
     "metadata": {},
     "output_type": "execute_result"
    }
   ],
   "source": [
    "melted_total.head()"
   ]
  },
  {
   "cell_type": "code",
   "execution_count": 219,
   "metadata": {},
   "outputs": [],
   "source": [
    "homicides_final = pd.merge(melted_total, melted_percent)"
   ]
  },
  {
   "cell_type": "code",
   "execution_count": 220,
   "metadata": {},
   "outputs": [],
   "source": [
    "sort_homicides_final=homicides_final.sort_values(\"Country\", ascending = True)"
   ]
  },
  {
   "cell_type": "code",
   "execution_count": 221,
   "metadata": {},
   "outputs": [],
   "source": [
    "dropped_homicides = sort_homicides_final.drop([\"Region\",\"Subregion\"], axis = 1)"
   ]
  },
  {
   "cell_type": "code",
   "execution_count": 222,
   "metadata": {},
   "outputs": [
    {
     "data": {
      "text/html": [
       "<div>\n",
       "<style scoped>\n",
       "    .dataframe tbody tr th:only-of-type {\n",
       "        vertical-align: middle;\n",
       "    }\n",
       "\n",
       "    .dataframe tbody tr th {\n",
       "        vertical-align: top;\n",
       "    }\n",
       "\n",
       "    .dataframe thead th {\n",
       "        text-align: right;\n",
       "    }\n",
       "</style>\n",
       "<table border=\"1\" class=\"dataframe\">\n",
       "  <thead>\n",
       "    <tr style=\"text-align: right;\">\n",
       "      <th></th>\n",
       "      <th>Country</th>\n",
       "      <th>Year</th>\n",
       "      <th>GDP_Per_Capita</th>\n",
       "      <th>Internet_Users_Pct</th>\n",
       "    </tr>\n",
       "  </thead>\n",
       "  <tbody>\n",
       "    <tr>\n",
       "      <th>3517</th>\n",
       "      <td>Zimbabwe</td>\n",
       "      <td>1994</td>\n",
       "      <td>2768.309953</td>\n",
       "      <td>0.001739</td>\n",
       "    </tr>\n",
       "    <tr>\n",
       "      <th>3518</th>\n",
       "      <td>Zimbabwe</td>\n",
       "      <td>1990</td>\n",
       "      <td>2819.549467</td>\n",
       "      <td>0.000000</td>\n",
       "    </tr>\n",
       "  </tbody>\n",
       "</table>\n",
       "</div>"
      ],
      "text/plain": [
       "       Country  Year  GDP_Per_Capita  Internet_Users_Pct\n",
       "3517  Zimbabwe  1994     2768.309953            0.001739\n",
       "3518  Zimbabwe  1990     2819.549467            0.000000"
      ]
     },
     "execution_count": 222,
     "metadata": {},
     "output_type": "execute_result"
    }
   ],
   "source": [
    "joined_match_gdp.tail(2)"
   ]
  },
  {
   "cell_type": "code",
   "execution_count": 223,
   "metadata": {},
   "outputs": [
    {
     "data": {
      "text/html": [
       "<div>\n",
       "<style scoped>\n",
       "    .dataframe tbody tr th:only-of-type {\n",
       "        vertical-align: middle;\n",
       "    }\n",
       "\n",
       "    .dataframe tbody tr th {\n",
       "        vertical-align: top;\n",
       "    }\n",
       "\n",
       "    .dataframe thead th {\n",
       "        text-align: right;\n",
       "    }\n",
       "</style>\n",
       "<table border=\"1\" class=\"dataframe\">\n",
       "  <thead>\n",
       "    <tr style=\"text-align: right;\">\n",
       "      <th></th>\n",
       "      <th>Country</th>\n",
       "      <th>Year</th>\n",
       "      <th>Total Homicides</th>\n",
       "      <th>Homicides per 100K</th>\n",
       "    </tr>\n",
       "  </thead>\n",
       "  <tbody>\n",
       "    <tr>\n",
       "      <th>249</th>\n",
       "      <td>Zimbabwe</td>\n",
       "      <td>2001</td>\n",
       "      <td>1,529</td>\n",
       "      <td>12.4</td>\n",
       "    </tr>\n",
       "    <tr>\n",
       "      <th>939</th>\n",
       "      <td>Zimbabwe</td>\n",
       "      <td>2004</td>\n",
       "      <td>1,356</td>\n",
       "      <td>10.6</td>\n",
       "    </tr>\n",
       "    <tr>\n",
       "      <th>709</th>\n",
       "      <td>Zimbabwe</td>\n",
       "      <td>2003</td>\n",
       "      <td>1,360</td>\n",
       "      <td>10.8</td>\n",
       "    </tr>\n",
       "    <tr>\n",
       "      <th>2089</th>\n",
       "      <td>Zimbabwe</td>\n",
       "      <td>2009</td>\n",
       "      <td>NaN</td>\n",
       "      <td>NaN</td>\n",
       "    </tr>\n",
       "    <tr>\n",
       "      <th>1169</th>\n",
       "      <td>Zimbabwe</td>\n",
       "      <td>2005</td>\n",
       "      <td>1,350</td>\n",
       "      <td>10.4</td>\n",
       "    </tr>\n",
       "  </tbody>\n",
       "</table>\n",
       "</div>"
      ],
      "text/plain": [
       "       Country  Year Total Homicides Homicides per 100K\n",
       "249   Zimbabwe  2001           1,529               12.4\n",
       "939   Zimbabwe  2004           1,356               10.6\n",
       "709   Zimbabwe  2003           1,360               10.8\n",
       "2089  Zimbabwe  2009             NaN                NaN\n",
       "1169  Zimbabwe  2005           1,350               10.4"
      ]
     },
     "execution_count": 223,
     "metadata": {},
     "output_type": "execute_result"
    }
   ],
   "source": [
    "dropped_homicides."
   ]
  },
  {
   "cell_type": "markdown",
   "metadata": {},
   "source": [
    "# <font color = red> This is as far as i could get."
   ]
  },
  {
   "cell_type": "code",
   "execution_count": 224,
   "metadata": {},
   "outputs": [
    {
     "data": {
      "text/html": [
       "<div>\n",
       "<style scoped>\n",
       "    .dataframe tbody tr th:only-of-type {\n",
       "        vertical-align: middle;\n",
       "    }\n",
       "\n",
       "    .dataframe tbody tr th {\n",
       "        vertical-align: top;\n",
       "    }\n",
       "\n",
       "    .dataframe thead th {\n",
       "        text-align: right;\n",
       "    }\n",
       "</style>\n",
       "<table border=\"1\" class=\"dataframe\">\n",
       "  <thead>\n",
       "    <tr style=\"text-align: right;\">\n",
       "      <th></th>\n",
       "      <th>Country</th>\n",
       "      <th>Year_x</th>\n",
       "      <th>Total Homicides</th>\n",
       "      <th>Homicides per 100K</th>\n",
       "      <th>Year_y</th>\n",
       "      <th>GDP_Per_Capita</th>\n",
       "      <th>Internet_Users_Pct</th>\n",
       "    </tr>\n",
       "  </thead>\n",
       "  <tbody>\n",
       "    <tr>\n",
       "      <th>0</th>\n",
       "      <td>Afghanistan</td>\n",
       "      <td>2004</td>\n",
       "      <td>NaN</td>\n",
       "      <td>NaN</td>\n",
       "      <td>2014.0</td>\n",
       "      <td>1795.735834</td>\n",
       "      <td>6.390000</td>\n",
       "    </tr>\n",
       "    <tr>\n",
       "      <th>1</th>\n",
       "      <td>Afghanistan</td>\n",
       "      <td>2004</td>\n",
       "      <td>NaN</td>\n",
       "      <td>NaN</td>\n",
       "      <td>2013.0</td>\n",
       "      <td>1807.762344</td>\n",
       "      <td>5.900000</td>\n",
       "    </tr>\n",
       "    <tr>\n",
       "      <th>2</th>\n",
       "      <td>Afghanistan</td>\n",
       "      <td>2004</td>\n",
       "      <td>NaN</td>\n",
       "      <td>NaN</td>\n",
       "      <td>2012.0</td>\n",
       "      <td>1772.764974</td>\n",
       "      <td>5.454545</td>\n",
       "    </tr>\n",
       "    <tr>\n",
       "      <th>3</th>\n",
       "      <td>Afghanistan</td>\n",
       "      <td>2004</td>\n",
       "      <td>NaN</td>\n",
       "      <td>NaN</td>\n",
       "      <td>2011.0</td>\n",
       "      <td>1626.764793</td>\n",
       "      <td>5.000000</td>\n",
       "    </tr>\n",
       "    <tr>\n",
       "      <th>4</th>\n",
       "      <td>Afghanistan</td>\n",
       "      <td>2004</td>\n",
       "      <td>NaN</td>\n",
       "      <td>NaN</td>\n",
       "      <td>2010.0</td>\n",
       "      <td>1671.581238</td>\n",
       "      <td>4.000000</td>\n",
       "    </tr>\n",
       "    <tr>\n",
       "      <th>5</th>\n",
       "      <td>Afghanistan</td>\n",
       "      <td>2004</td>\n",
       "      <td>NaN</td>\n",
       "      <td>NaN</td>\n",
       "      <td>2009.0</td>\n",
       "      <td>1502.354073</td>\n",
       "      <td>3.550000</td>\n",
       "    </tr>\n",
       "    <tr>\n",
       "      <th>6</th>\n",
       "      <td>Afghanistan</td>\n",
       "      <td>2004</td>\n",
       "      <td>NaN</td>\n",
       "      <td>NaN</td>\n",
       "      <td>2008.0</td>\n",
       "      <td>1267.644939</td>\n",
       "      <td>1.840000</td>\n",
       "    </tr>\n",
       "    <tr>\n",
       "      <th>7</th>\n",
       "      <td>Afghanistan</td>\n",
       "      <td>2004</td>\n",
       "      <td>NaN</td>\n",
       "      <td>NaN</td>\n",
       "      <td>2007.0</td>\n",
       "      <td>1247.753118</td>\n",
       "      <td>1.900000</td>\n",
       "    </tr>\n",
       "    <tr>\n",
       "      <th>8</th>\n",
       "      <td>Afghanistan</td>\n",
       "      <td>2004</td>\n",
       "      <td>NaN</td>\n",
       "      <td>NaN</td>\n",
       "      <td>2006.0</td>\n",
       "      <td>1123.871323</td>\n",
       "      <td>2.107124</td>\n",
       "    </tr>\n",
       "    <tr>\n",
       "      <th>9</th>\n",
       "      <td>Afghanistan</td>\n",
       "      <td>2004</td>\n",
       "      <td>NaN</td>\n",
       "      <td>NaN</td>\n",
       "      <td>2005.0</td>\n",
       "      <td>1099.104568</td>\n",
       "      <td>1.224148</td>\n",
       "    </tr>\n",
       "    <tr>\n",
       "      <th>10</th>\n",
       "      <td>Afghanistan</td>\n",
       "      <td>2004</td>\n",
       "      <td>NaN</td>\n",
       "      <td>NaN</td>\n",
       "      <td>2004.0</td>\n",
       "      <td>1025.208245</td>\n",
       "      <td>0.105809</td>\n",
       "    </tr>\n",
       "    <tr>\n",
       "      <th>11</th>\n",
       "      <td>Afghanistan</td>\n",
       "      <td>2004</td>\n",
       "      <td>NaN</td>\n",
       "      <td>NaN</td>\n",
       "      <td>2003.0</td>\n",
       "      <td>1055.557459</td>\n",
       "      <td>0.087891</td>\n",
       "    </tr>\n",
       "    <tr>\n",
       "      <th>12</th>\n",
       "      <td>Afghanistan</td>\n",
       "      <td>2004</td>\n",
       "      <td>NaN</td>\n",
       "      <td>NaN</td>\n",
       "      <td>2002.0</td>\n",
       "      <td>1016.245409</td>\n",
       "      <td>0.004561</td>\n",
       "    </tr>\n",
       "    <tr>\n",
       "      <th>13</th>\n",
       "      <td>Afghanistan</td>\n",
       "      <td>2016</td>\n",
       "      <td>NaN</td>\n",
       "      <td>NaN</td>\n",
       "      <td>2014.0</td>\n",
       "      <td>1795.735834</td>\n",
       "      <td>6.390000</td>\n",
       "    </tr>\n",
       "    <tr>\n",
       "      <th>14</th>\n",
       "      <td>Afghanistan</td>\n",
       "      <td>2016</td>\n",
       "      <td>NaN</td>\n",
       "      <td>NaN</td>\n",
       "      <td>2013.0</td>\n",
       "      <td>1807.762344</td>\n",
       "      <td>5.900000</td>\n",
       "    </tr>\n",
       "    <tr>\n",
       "      <th>15</th>\n",
       "      <td>Afghanistan</td>\n",
       "      <td>2016</td>\n",
       "      <td>NaN</td>\n",
       "      <td>NaN</td>\n",
       "      <td>2012.0</td>\n",
       "      <td>1772.764974</td>\n",
       "      <td>5.454545</td>\n",
       "    </tr>\n",
       "    <tr>\n",
       "      <th>16</th>\n",
       "      <td>Afghanistan</td>\n",
       "      <td>2016</td>\n",
       "      <td>NaN</td>\n",
       "      <td>NaN</td>\n",
       "      <td>2011.0</td>\n",
       "      <td>1626.764793</td>\n",
       "      <td>5.000000</td>\n",
       "    </tr>\n",
       "    <tr>\n",
       "      <th>17</th>\n",
       "      <td>Afghanistan</td>\n",
       "      <td>2016</td>\n",
       "      <td>NaN</td>\n",
       "      <td>NaN</td>\n",
       "      <td>2010.0</td>\n",
       "      <td>1671.581238</td>\n",
       "      <td>4.000000</td>\n",
       "    </tr>\n",
       "    <tr>\n",
       "      <th>18</th>\n",
       "      <td>Afghanistan</td>\n",
       "      <td>2016</td>\n",
       "      <td>NaN</td>\n",
       "      <td>NaN</td>\n",
       "      <td>2009.0</td>\n",
       "      <td>1502.354073</td>\n",
       "      <td>3.550000</td>\n",
       "    </tr>\n",
       "    <tr>\n",
       "      <th>19</th>\n",
       "      <td>Afghanistan</td>\n",
       "      <td>2016</td>\n",
       "      <td>NaN</td>\n",
       "      <td>NaN</td>\n",
       "      <td>2008.0</td>\n",
       "      <td>1267.644939</td>\n",
       "      <td>1.840000</td>\n",
       "    </tr>\n",
       "    <tr>\n",
       "      <th>20</th>\n",
       "      <td>Afghanistan</td>\n",
       "      <td>2016</td>\n",
       "      <td>NaN</td>\n",
       "      <td>NaN</td>\n",
       "      <td>2007.0</td>\n",
       "      <td>1247.753118</td>\n",
       "      <td>1.900000</td>\n",
       "    </tr>\n",
       "    <tr>\n",
       "      <th>21</th>\n",
       "      <td>Afghanistan</td>\n",
       "      <td>2016</td>\n",
       "      <td>NaN</td>\n",
       "      <td>NaN</td>\n",
       "      <td>2006.0</td>\n",
       "      <td>1123.871323</td>\n",
       "      <td>2.107124</td>\n",
       "    </tr>\n",
       "    <tr>\n",
       "      <th>22</th>\n",
       "      <td>Afghanistan</td>\n",
       "      <td>2016</td>\n",
       "      <td>NaN</td>\n",
       "      <td>NaN</td>\n",
       "      <td>2005.0</td>\n",
       "      <td>1099.104568</td>\n",
       "      <td>1.224148</td>\n",
       "    </tr>\n",
       "    <tr>\n",
       "      <th>23</th>\n",
       "      <td>Afghanistan</td>\n",
       "      <td>2016</td>\n",
       "      <td>NaN</td>\n",
       "      <td>NaN</td>\n",
       "      <td>2004.0</td>\n",
       "      <td>1025.208245</td>\n",
       "      <td>0.105809</td>\n",
       "    </tr>\n",
       "    <tr>\n",
       "      <th>24</th>\n",
       "      <td>Afghanistan</td>\n",
       "      <td>2016</td>\n",
       "      <td>NaN</td>\n",
       "      <td>NaN</td>\n",
       "      <td>2003.0</td>\n",
       "      <td>1055.557459</td>\n",
       "      <td>0.087891</td>\n",
       "    </tr>\n",
       "    <tr>\n",
       "      <th>25</th>\n",
       "      <td>Afghanistan</td>\n",
       "      <td>2016</td>\n",
       "      <td>NaN</td>\n",
       "      <td>NaN</td>\n",
       "      <td>2002.0</td>\n",
       "      <td>1016.245409</td>\n",
       "      <td>0.004561</td>\n",
       "    </tr>\n",
       "    <tr>\n",
       "      <th>26</th>\n",
       "      <td>Afghanistan</td>\n",
       "      <td>2011</td>\n",
       "      <td>1,231</td>\n",
       "      <td>4.1</td>\n",
       "      <td>2014.0</td>\n",
       "      <td>1795.735834</td>\n",
       "      <td>6.390000</td>\n",
       "    </tr>\n",
       "    <tr>\n",
       "      <th>27</th>\n",
       "      <td>Afghanistan</td>\n",
       "      <td>2011</td>\n",
       "      <td>1,231</td>\n",
       "      <td>4.1</td>\n",
       "      <td>2013.0</td>\n",
       "      <td>1807.762344</td>\n",
       "      <td>5.900000</td>\n",
       "    </tr>\n",
       "    <tr>\n",
       "      <th>28</th>\n",
       "      <td>Afghanistan</td>\n",
       "      <td>2011</td>\n",
       "      <td>1,231</td>\n",
       "      <td>4.1</td>\n",
       "      <td>2012.0</td>\n",
       "      <td>1772.764974</td>\n",
       "      <td>5.454545</td>\n",
       "    </tr>\n",
       "    <tr>\n",
       "      <th>29</th>\n",
       "      <td>Afghanistan</td>\n",
       "      <td>2011</td>\n",
       "      <td>1,231</td>\n",
       "      <td>4.1</td>\n",
       "      <td>2011.0</td>\n",
       "      <td>1626.764793</td>\n",
       "      <td>5.000000</td>\n",
       "    </tr>\n",
       "    <tr>\n",
       "      <th>...</th>\n",
       "      <td>...</td>\n",
       "      <td>...</td>\n",
       "      <td>...</td>\n",
       "      <td>...</td>\n",
       "      <td>...</td>\n",
       "      <td>...</td>\n",
       "      <td>...</td>\n",
       "    </tr>\n",
       "    <tr>\n",
       "      <th>53877</th>\n",
       "      <td>Zimbabwe</td>\n",
       "      <td>2009</td>\n",
       "      <td>NaN</td>\n",
       "      <td>NaN</td>\n",
       "      <td>2000.0</td>\n",
       "      <td>2945.993212</td>\n",
       "      <td>0.401434</td>\n",
       "    </tr>\n",
       "    <tr>\n",
       "      <th>53878</th>\n",
       "      <td>Zimbabwe</td>\n",
       "      <td>2009</td>\n",
       "      <td>NaN</td>\n",
       "      <td>NaN</td>\n",
       "      <td>1999.0</td>\n",
       "      <td>3054.064189</td>\n",
       "      <td>0.161676</td>\n",
       "    </tr>\n",
       "    <tr>\n",
       "      <th>53879</th>\n",
       "      <td>Zimbabwe</td>\n",
       "      <td>2009</td>\n",
       "      <td>NaN</td>\n",
       "      <td>NaN</td>\n",
       "      <td>1998.0</td>\n",
       "      <td>3099.076182</td>\n",
       "      <td>0.081648</td>\n",
       "    </tr>\n",
       "    <tr>\n",
       "      <th>53880</th>\n",
       "      <td>Zimbabwe</td>\n",
       "      <td>2009</td>\n",
       "      <td>NaN</td>\n",
       "      <td>NaN</td>\n",
       "      <td>1997.0</td>\n",
       "      <td>3036.422224</td>\n",
       "      <td>0.033080</td>\n",
       "    </tr>\n",
       "    <tr>\n",
       "      <th>53881</th>\n",
       "      <td>Zimbabwe</td>\n",
       "      <td>2009</td>\n",
       "      <td>NaN</td>\n",
       "      <td>NaN</td>\n",
       "      <td>1996.0</td>\n",
       "      <td>2985.856605</td>\n",
       "      <td>0.016790</td>\n",
       "    </tr>\n",
       "    <tr>\n",
       "      <th>53882</th>\n",
       "      <td>Zimbabwe</td>\n",
       "      <td>2009</td>\n",
       "      <td>NaN</td>\n",
       "      <td>NaN</td>\n",
       "      <td>1995.0</td>\n",
       "      <td>2736.486436</td>\n",
       "      <td>0.007684</td>\n",
       "    </tr>\n",
       "    <tr>\n",
       "      <th>53883</th>\n",
       "      <td>Zimbabwe</td>\n",
       "      <td>2009</td>\n",
       "      <td>NaN</td>\n",
       "      <td>NaN</td>\n",
       "      <td>1994.0</td>\n",
       "      <td>2768.309953</td>\n",
       "      <td>0.001739</td>\n",
       "    </tr>\n",
       "    <tr>\n",
       "      <th>53884</th>\n",
       "      <td>Zimbabwe</td>\n",
       "      <td>2009</td>\n",
       "      <td>NaN</td>\n",
       "      <td>NaN</td>\n",
       "      <td>1990.0</td>\n",
       "      <td>2819.549467</td>\n",
       "      <td>0.000000</td>\n",
       "    </tr>\n",
       "    <tr>\n",
       "      <th>53885</th>\n",
       "      <td>Zimbabwe</td>\n",
       "      <td>2005</td>\n",
       "      <td>1,350</td>\n",
       "      <td>10.4</td>\n",
       "      <td>2014.0</td>\n",
       "      <td>2506.490220</td>\n",
       "      <td>19.890000</td>\n",
       "    </tr>\n",
       "    <tr>\n",
       "      <th>53886</th>\n",
       "      <td>Zimbabwe</td>\n",
       "      <td>2005</td>\n",
       "      <td>1,350</td>\n",
       "      <td>10.4</td>\n",
       "      <td>2013.0</td>\n",
       "      <td>2491.635140</td>\n",
       "      <td>18.500000</td>\n",
       "    </tr>\n",
       "    <tr>\n",
       "      <th>53887</th>\n",
       "      <td>Zimbabwe</td>\n",
       "      <td>2005</td>\n",
       "      <td>1,350</td>\n",
       "      <td>10.4</td>\n",
       "      <td>2012.0</td>\n",
       "      <td>2486.847930</td>\n",
       "      <td>17.090000</td>\n",
       "    </tr>\n",
       "    <tr>\n",
       "      <th>53888</th>\n",
       "      <td>Zimbabwe</td>\n",
       "      <td>2005</td>\n",
       "      <td>1,350</td>\n",
       "      <td>10.4</td>\n",
       "      <td>2011.0</td>\n",
       "      <td>2168.110293</td>\n",
       "      <td>15.700000</td>\n",
       "    </tr>\n",
       "    <tr>\n",
       "      <th>53889</th>\n",
       "      <td>Zimbabwe</td>\n",
       "      <td>2005</td>\n",
       "      <td>1,350</td>\n",
       "      <td>10.4</td>\n",
       "      <td>2010.0</td>\n",
       "      <td>1928.017081</td>\n",
       "      <td>11.500000</td>\n",
       "    </tr>\n",
       "    <tr>\n",
       "      <th>53890</th>\n",
       "      <td>Zimbabwe</td>\n",
       "      <td>2005</td>\n",
       "      <td>1,350</td>\n",
       "      <td>10.4</td>\n",
       "      <td>2009.0</td>\n",
       "      <td>1632.999866</td>\n",
       "      <td>11.360000</td>\n",
       "    </tr>\n",
       "    <tr>\n",
       "      <th>53891</th>\n",
       "      <td>Zimbabwe</td>\n",
       "      <td>2005</td>\n",
       "      <td>1,350</td>\n",
       "      <td>10.4</td>\n",
       "      <td>2008.0</td>\n",
       "      <td>1475.140653</td>\n",
       "      <td>11.400000</td>\n",
       "    </tr>\n",
       "    <tr>\n",
       "      <th>53892</th>\n",
       "      <td>Zimbabwe</td>\n",
       "      <td>2005</td>\n",
       "      <td>1,350</td>\n",
       "      <td>10.4</td>\n",
       "      <td>2007.0</td>\n",
       "      <td>1809.791702</td>\n",
       "      <td>10.850000</td>\n",
       "    </tr>\n",
       "    <tr>\n",
       "      <th>53893</th>\n",
       "      <td>Zimbabwe</td>\n",
       "      <td>2005</td>\n",
       "      <td>1,350</td>\n",
       "      <td>10.4</td>\n",
       "      <td>2006.0</td>\n",
       "      <td>1893.936230</td>\n",
       "      <td>9.791842</td>\n",
       "    </tr>\n",
       "    <tr>\n",
       "      <th>53894</th>\n",
       "      <td>Zimbabwe</td>\n",
       "      <td>2005</td>\n",
       "      <td>1,350</td>\n",
       "      <td>10.4</td>\n",
       "      <td>2005.0</td>\n",
       "      <td>1974.645081</td>\n",
       "      <td>8.015978</td>\n",
       "    </tr>\n",
       "    <tr>\n",
       "      <th>53895</th>\n",
       "      <td>Zimbabwe</td>\n",
       "      <td>2005</td>\n",
       "      <td>1,350</td>\n",
       "      <td>10.4</td>\n",
       "      <td>2004.0</td>\n",
       "      <td>2104.143512</td>\n",
       "      <td>6.564045</td>\n",
       "    </tr>\n",
       "    <tr>\n",
       "      <th>53896</th>\n",
       "      <td>Zimbabwe</td>\n",
       "      <td>2005</td>\n",
       "      <td>1,350</td>\n",
       "      <td>10.4</td>\n",
       "      <td>2003.0</td>\n",
       "      <td>2240.903026</td>\n",
       "      <td>6.394786</td>\n",
       "    </tr>\n",
       "    <tr>\n",
       "      <th>53897</th>\n",
       "      <td>Zimbabwe</td>\n",
       "      <td>2005</td>\n",
       "      <td>1,350</td>\n",
       "      <td>10.4</td>\n",
       "      <td>2002.0</td>\n",
       "      <td>2706.031494</td>\n",
       "      <td>3.994356</td>\n",
       "    </tr>\n",
       "    <tr>\n",
       "      <th>53898</th>\n",
       "      <td>Zimbabwe</td>\n",
       "      <td>2005</td>\n",
       "      <td>1,350</td>\n",
       "      <td>10.4</td>\n",
       "      <td>2001.0</td>\n",
       "      <td>2977.768505</td>\n",
       "      <td>0.799846</td>\n",
       "    </tr>\n",
       "    <tr>\n",
       "      <th>53899</th>\n",
       "      <td>Zimbabwe</td>\n",
       "      <td>2005</td>\n",
       "      <td>1,350</td>\n",
       "      <td>10.4</td>\n",
       "      <td>2000.0</td>\n",
       "      <td>2945.993212</td>\n",
       "      <td>0.401434</td>\n",
       "    </tr>\n",
       "    <tr>\n",
       "      <th>53900</th>\n",
       "      <td>Zimbabwe</td>\n",
       "      <td>2005</td>\n",
       "      <td>1,350</td>\n",
       "      <td>10.4</td>\n",
       "      <td>1999.0</td>\n",
       "      <td>3054.064189</td>\n",
       "      <td>0.161676</td>\n",
       "    </tr>\n",
       "    <tr>\n",
       "      <th>53901</th>\n",
       "      <td>Zimbabwe</td>\n",
       "      <td>2005</td>\n",
       "      <td>1,350</td>\n",
       "      <td>10.4</td>\n",
       "      <td>1998.0</td>\n",
       "      <td>3099.076182</td>\n",
       "      <td>0.081648</td>\n",
       "    </tr>\n",
       "    <tr>\n",
       "      <th>53902</th>\n",
       "      <td>Zimbabwe</td>\n",
       "      <td>2005</td>\n",
       "      <td>1,350</td>\n",
       "      <td>10.4</td>\n",
       "      <td>1997.0</td>\n",
       "      <td>3036.422224</td>\n",
       "      <td>0.033080</td>\n",
       "    </tr>\n",
       "    <tr>\n",
       "      <th>53903</th>\n",
       "      <td>Zimbabwe</td>\n",
       "      <td>2005</td>\n",
       "      <td>1,350</td>\n",
       "      <td>10.4</td>\n",
       "      <td>1996.0</td>\n",
       "      <td>2985.856605</td>\n",
       "      <td>0.016790</td>\n",
       "    </tr>\n",
       "    <tr>\n",
       "      <th>53904</th>\n",
       "      <td>Zimbabwe</td>\n",
       "      <td>2005</td>\n",
       "      <td>1,350</td>\n",
       "      <td>10.4</td>\n",
       "      <td>1995.0</td>\n",
       "      <td>2736.486436</td>\n",
       "      <td>0.007684</td>\n",
       "    </tr>\n",
       "    <tr>\n",
       "      <th>53905</th>\n",
       "      <td>Zimbabwe</td>\n",
       "      <td>2005</td>\n",
       "      <td>1,350</td>\n",
       "      <td>10.4</td>\n",
       "      <td>1994.0</td>\n",
       "      <td>2768.309953</td>\n",
       "      <td>0.001739</td>\n",
       "    </tr>\n",
       "    <tr>\n",
       "      <th>53906</th>\n",
       "      <td>Zimbabwe</td>\n",
       "      <td>2005</td>\n",
       "      <td>1,350</td>\n",
       "      <td>10.4</td>\n",
       "      <td>1990.0</td>\n",
       "      <td>2819.549467</td>\n",
       "      <td>0.000000</td>\n",
       "    </tr>\n",
       "  </tbody>\n",
       "</table>\n",
       "<p>53907 rows × 7 columns</p>\n",
       "</div>"
      ],
      "text/plain": [
       "           Country Year_x Total Homicides Homicides per 100K  Year_y  \\\n",
       "0      Afghanistan   2004             NaN                NaN  2014.0   \n",
       "1      Afghanistan   2004             NaN                NaN  2013.0   \n",
       "2      Afghanistan   2004             NaN                NaN  2012.0   \n",
       "3      Afghanistan   2004             NaN                NaN  2011.0   \n",
       "4      Afghanistan   2004             NaN                NaN  2010.0   \n",
       "5      Afghanistan   2004             NaN                NaN  2009.0   \n",
       "6      Afghanistan   2004             NaN                NaN  2008.0   \n",
       "7      Afghanistan   2004             NaN                NaN  2007.0   \n",
       "8      Afghanistan   2004             NaN                NaN  2006.0   \n",
       "9      Afghanistan   2004             NaN                NaN  2005.0   \n",
       "10     Afghanistan   2004             NaN                NaN  2004.0   \n",
       "11     Afghanistan   2004             NaN                NaN  2003.0   \n",
       "12     Afghanistan   2004             NaN                NaN  2002.0   \n",
       "13     Afghanistan   2016             NaN                NaN  2014.0   \n",
       "14     Afghanistan   2016             NaN                NaN  2013.0   \n",
       "15     Afghanistan   2016             NaN                NaN  2012.0   \n",
       "16     Afghanistan   2016             NaN                NaN  2011.0   \n",
       "17     Afghanistan   2016             NaN                NaN  2010.0   \n",
       "18     Afghanistan   2016             NaN                NaN  2009.0   \n",
       "19     Afghanistan   2016             NaN                NaN  2008.0   \n",
       "20     Afghanistan   2016             NaN                NaN  2007.0   \n",
       "21     Afghanistan   2016             NaN                NaN  2006.0   \n",
       "22     Afghanistan   2016             NaN                NaN  2005.0   \n",
       "23     Afghanistan   2016             NaN                NaN  2004.0   \n",
       "24     Afghanistan   2016             NaN                NaN  2003.0   \n",
       "25     Afghanistan   2016             NaN                NaN  2002.0   \n",
       "26     Afghanistan   2011           1,231                4.1  2014.0   \n",
       "27     Afghanistan   2011           1,231                4.1  2013.0   \n",
       "28     Afghanistan   2011           1,231                4.1  2012.0   \n",
       "29     Afghanistan   2011           1,231                4.1  2011.0   \n",
       "...            ...    ...             ...                ...     ...   \n",
       "53877     Zimbabwe   2009             NaN                NaN  2000.0   \n",
       "53878     Zimbabwe   2009             NaN                NaN  1999.0   \n",
       "53879     Zimbabwe   2009             NaN                NaN  1998.0   \n",
       "53880     Zimbabwe   2009             NaN                NaN  1997.0   \n",
       "53881     Zimbabwe   2009             NaN                NaN  1996.0   \n",
       "53882     Zimbabwe   2009             NaN                NaN  1995.0   \n",
       "53883     Zimbabwe   2009             NaN                NaN  1994.0   \n",
       "53884     Zimbabwe   2009             NaN                NaN  1990.0   \n",
       "53885     Zimbabwe   2005           1,350               10.4  2014.0   \n",
       "53886     Zimbabwe   2005           1,350               10.4  2013.0   \n",
       "53887     Zimbabwe   2005           1,350               10.4  2012.0   \n",
       "53888     Zimbabwe   2005           1,350               10.4  2011.0   \n",
       "53889     Zimbabwe   2005           1,350               10.4  2010.0   \n",
       "53890     Zimbabwe   2005           1,350               10.4  2009.0   \n",
       "53891     Zimbabwe   2005           1,350               10.4  2008.0   \n",
       "53892     Zimbabwe   2005           1,350               10.4  2007.0   \n",
       "53893     Zimbabwe   2005           1,350               10.4  2006.0   \n",
       "53894     Zimbabwe   2005           1,350               10.4  2005.0   \n",
       "53895     Zimbabwe   2005           1,350               10.4  2004.0   \n",
       "53896     Zimbabwe   2005           1,350               10.4  2003.0   \n",
       "53897     Zimbabwe   2005           1,350               10.4  2002.0   \n",
       "53898     Zimbabwe   2005           1,350               10.4  2001.0   \n",
       "53899     Zimbabwe   2005           1,350               10.4  2000.0   \n",
       "53900     Zimbabwe   2005           1,350               10.4  1999.0   \n",
       "53901     Zimbabwe   2005           1,350               10.4  1998.0   \n",
       "53902     Zimbabwe   2005           1,350               10.4  1997.0   \n",
       "53903     Zimbabwe   2005           1,350               10.4  1996.0   \n",
       "53904     Zimbabwe   2005           1,350               10.4  1995.0   \n",
       "53905     Zimbabwe   2005           1,350               10.4  1994.0   \n",
       "53906     Zimbabwe   2005           1,350               10.4  1990.0   \n",
       "\n",
       "       GDP_Per_Capita  Internet_Users_Pct  \n",
       "0         1795.735834            6.390000  \n",
       "1         1807.762344            5.900000  \n",
       "2         1772.764974            5.454545  \n",
       "3         1626.764793            5.000000  \n",
       "4         1671.581238            4.000000  \n",
       "5         1502.354073            3.550000  \n",
       "6         1267.644939            1.840000  \n",
       "7         1247.753118            1.900000  \n",
       "8         1123.871323            2.107124  \n",
       "9         1099.104568            1.224148  \n",
       "10        1025.208245            0.105809  \n",
       "11        1055.557459            0.087891  \n",
       "12        1016.245409            0.004561  \n",
       "13        1795.735834            6.390000  \n",
       "14        1807.762344            5.900000  \n",
       "15        1772.764974            5.454545  \n",
       "16        1626.764793            5.000000  \n",
       "17        1671.581238            4.000000  \n",
       "18        1502.354073            3.550000  \n",
       "19        1267.644939            1.840000  \n",
       "20        1247.753118            1.900000  \n",
       "21        1123.871323            2.107124  \n",
       "22        1099.104568            1.224148  \n",
       "23        1025.208245            0.105809  \n",
       "24        1055.557459            0.087891  \n",
       "25        1016.245409            0.004561  \n",
       "26        1795.735834            6.390000  \n",
       "27        1807.762344            5.900000  \n",
       "28        1772.764974            5.454545  \n",
       "29        1626.764793            5.000000  \n",
       "...               ...                 ...  \n",
       "53877     2945.993212            0.401434  \n",
       "53878     3054.064189            0.161676  \n",
       "53879     3099.076182            0.081648  \n",
       "53880     3036.422224            0.033080  \n",
       "53881     2985.856605            0.016790  \n",
       "53882     2736.486436            0.007684  \n",
       "53883     2768.309953            0.001739  \n",
       "53884     2819.549467            0.000000  \n",
       "53885     2506.490220           19.890000  \n",
       "53886     2491.635140           18.500000  \n",
       "53887     2486.847930           17.090000  \n",
       "53888     2168.110293           15.700000  \n",
       "53889     1928.017081           11.500000  \n",
       "53890     1632.999866           11.360000  \n",
       "53891     1475.140653           11.400000  \n",
       "53892     1809.791702           10.850000  \n",
       "53893     1893.936230            9.791842  \n",
       "53894     1974.645081            8.015978  \n",
       "53895     2104.143512            6.564045  \n",
       "53896     2240.903026            6.394786  \n",
       "53897     2706.031494            3.994356  \n",
       "53898     2977.768505            0.799846  \n",
       "53899     2945.993212            0.401434  \n",
       "53900     3054.064189            0.161676  \n",
       "53901     3099.076182            0.081648  \n",
       "53902     3036.422224            0.033080  \n",
       "53903     2985.856605            0.016790  \n",
       "53904     2736.486436            0.007684  \n",
       "53905     2768.309953            0.001739  \n",
       "53906     2819.549467            0.000000  \n",
       "\n",
       "[53907 rows x 7 columns]"
      ]
     },
     "execution_count": 224,
     "metadata": {},
     "output_type": "execute_result"
    }
   ],
   "source": [
    "pd.merge(dropped_homicides, joined_match_gdp, on = \"Country\", how = \"left\")"
   ]
  },
  {
   "cell_type": "code",
   "execution_count": 183,
   "metadata": {},
   "outputs": [
    {
     "ename": "ValueError",
     "evalue": "You are trying to merge on object and int64 columns. If you wish to proceed you should use pd.concat",
     "output_type": "error",
     "traceback": [
      "\u001b[1;31m---------------------------------------------------------------------------\u001b[0m",
      "\u001b[1;31mValueError\u001b[0m                                Traceback (most recent call last)",
      "\u001b[1;32m<ipython-input-183-4275ce3a5448>\u001b[0m in \u001b[0;36m<module>\u001b[1;34m\u001b[0m\n\u001b[1;32m----> 1\u001b[1;33m \u001b[0mpd\u001b[0m\u001b[1;33m.\u001b[0m\u001b[0mmerge\u001b[0m\u001b[1;33m(\u001b[0m\u001b[0mhomicides_final\u001b[0m\u001b[1;33m,\u001b[0m \u001b[0mjoined_match_gdp\u001b[0m\u001b[1;33m,\u001b[0m \u001b[0mon\u001b[0m \u001b[1;33m=\u001b[0m \u001b[1;33m[\u001b[0m\u001b[1;34m\"Year\"\u001b[0m\u001b[1;33m]\u001b[0m\u001b[1;33m,\u001b[0m \u001b[0mhow\u001b[0m \u001b[1;33m=\u001b[0m \u001b[1;34m\"inner\"\u001b[0m\u001b[1;33m)\u001b[0m\u001b[1;33m\u001b[0m\u001b[1;33m\u001b[0m\u001b[0m\n\u001b[0m",
      "\u001b[1;32m~\\Anaconda3\\lib\\site-packages\\pandas\\core\\reshape\\merge.py\u001b[0m in \u001b[0;36mmerge\u001b[1;34m(left, right, how, on, left_on, right_on, left_index, right_index, sort, suffixes, copy, indicator, validate)\u001b[0m\n\u001b[0;32m     45\u001b[0m                          \u001b[0mright_index\u001b[0m\u001b[1;33m=\u001b[0m\u001b[0mright_index\u001b[0m\u001b[1;33m,\u001b[0m \u001b[0msort\u001b[0m\u001b[1;33m=\u001b[0m\u001b[0msort\u001b[0m\u001b[1;33m,\u001b[0m \u001b[0msuffixes\u001b[0m\u001b[1;33m=\u001b[0m\u001b[0msuffixes\u001b[0m\u001b[1;33m,\u001b[0m\u001b[1;33m\u001b[0m\u001b[1;33m\u001b[0m\u001b[0m\n\u001b[0;32m     46\u001b[0m                          \u001b[0mcopy\u001b[0m\u001b[1;33m=\u001b[0m\u001b[0mcopy\u001b[0m\u001b[1;33m,\u001b[0m \u001b[0mindicator\u001b[0m\u001b[1;33m=\u001b[0m\u001b[0mindicator\u001b[0m\u001b[1;33m,\u001b[0m\u001b[1;33m\u001b[0m\u001b[1;33m\u001b[0m\u001b[0m\n\u001b[1;32m---> 47\u001b[1;33m                          validate=validate)\n\u001b[0m\u001b[0;32m     48\u001b[0m     \u001b[1;32mreturn\u001b[0m \u001b[0mop\u001b[0m\u001b[1;33m.\u001b[0m\u001b[0mget_result\u001b[0m\u001b[1;33m(\u001b[0m\u001b[1;33m)\u001b[0m\u001b[1;33m\u001b[0m\u001b[1;33m\u001b[0m\u001b[0m\n\u001b[0;32m     49\u001b[0m \u001b[1;33m\u001b[0m\u001b[0m\n",
      "\u001b[1;32m~\\Anaconda3\\lib\\site-packages\\pandas\\core\\reshape\\merge.py\u001b[0m in \u001b[0;36m__init__\u001b[1;34m(self, left, right, how, on, left_on, right_on, axis, left_index, right_index, sort, suffixes, copy, indicator, validate)\u001b[0m\n\u001b[0;32m    531\u001b[0m         \u001b[1;31m# validate the merge keys dtypes. We may need to coerce\u001b[0m\u001b[1;33m\u001b[0m\u001b[1;33m\u001b[0m\u001b[1;33m\u001b[0m\u001b[0m\n\u001b[0;32m    532\u001b[0m         \u001b[1;31m# to avoid incompat dtypes\u001b[0m\u001b[1;33m\u001b[0m\u001b[1;33m\u001b[0m\u001b[1;33m\u001b[0m\u001b[0m\n\u001b[1;32m--> 533\u001b[1;33m         \u001b[0mself\u001b[0m\u001b[1;33m.\u001b[0m\u001b[0m_maybe_coerce_merge_keys\u001b[0m\u001b[1;33m(\u001b[0m\u001b[1;33m)\u001b[0m\u001b[1;33m\u001b[0m\u001b[1;33m\u001b[0m\u001b[0m\n\u001b[0m\u001b[0;32m    534\u001b[0m \u001b[1;33m\u001b[0m\u001b[0m\n\u001b[0;32m    535\u001b[0m         \u001b[1;31m# If argument passed to validate,\u001b[0m\u001b[1;33m\u001b[0m\u001b[1;33m\u001b[0m\u001b[1;33m\u001b[0m\u001b[0m\n",
      "\u001b[1;32m~\\Anaconda3\\lib\\site-packages\\pandas\\core\\reshape\\merge.py\u001b[0m in \u001b[0;36m_maybe_coerce_merge_keys\u001b[1;34m(self)\u001b[0m\n\u001b[0;32m    978\u001b[0m                       (inferred_right in string_types and\n\u001b[0;32m    979\u001b[0m                        inferred_left not in string_types)):\n\u001b[1;32m--> 980\u001b[1;33m                     \u001b[1;32mraise\u001b[0m \u001b[0mValueError\u001b[0m\u001b[1;33m(\u001b[0m\u001b[0mmsg\u001b[0m\u001b[1;33m)\u001b[0m\u001b[1;33m\u001b[0m\u001b[1;33m\u001b[0m\u001b[0m\n\u001b[0m\u001b[0;32m    981\u001b[0m \u001b[1;33m\u001b[0m\u001b[0m\n\u001b[0;32m    982\u001b[0m             \u001b[1;31m# datetimelikes must match exactly\u001b[0m\u001b[1;33m\u001b[0m\u001b[1;33m\u001b[0m\u001b[1;33m\u001b[0m\u001b[0m\n",
      "\u001b[1;31mValueError\u001b[0m: You are trying to merge on object and int64 columns. If you wish to proceed you should use pd.concat"
     ]
    }
   ],
   "source": []
  },
  {
   "cell_type": "code",
   "execution_count": null,
   "metadata": {},
   "outputs": [],
   "source": []
  }
 ],
 "metadata": {
  "kernelspec": {
   "display_name": "Python 3",
   "language": "python",
   "name": "python3"
  },
  "language_info": {
   "codemirror_mode": {
    "name": "ipython",
    "version": 3
   },
   "file_extension": ".py",
   "mimetype": "text/x-python",
   "name": "python",
   "nbconvert_exporter": "python",
   "pygments_lexer": "ipython3",
   "version": "3.7.3"
  }
 },
 "nbformat": 4,
 "nbformat_minor": 2
}
